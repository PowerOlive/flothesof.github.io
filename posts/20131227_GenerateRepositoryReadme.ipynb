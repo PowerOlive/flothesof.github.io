{
 "metadata": {
  "name": ""
 },
 "nbformat": 3,
 "nbformat_minor": 0,
 "worksheets": [
  {
   "cells": [
    {
     "cell_type": "markdown",
     "metadata": {},
     "source": [
      "The goal of this notebook is to generate a file containing links to all notebooks in my posts directory for easy access from the web.\n",
      "\n",
      "The link that helped me encode the urls with percent encoding is the following : [http://stackoverflow.com/questions/1695183/how-to-percent-encode-url-parameters-in-python](http://stackoverflow.com/questions/1695183/how-to-percent-encode-url-parameters-in-python)."
     ]
    },
    {
     "cell_type": "code",
     "collapsed": false,
     "input": [
      "import os"
     ],
     "language": "python",
     "metadata": {},
     "outputs": [],
     "prompt_number": 1
    },
    {
     "cell_type": "code",
     "collapsed": false,
     "input": [
      "files = os.listdir(os.getcwd())\n",
      "files = filter(lambda s: s.endswith('.ipynb'), files)\n",
      "files"
     ],
     "language": "python",
     "metadata": {},
     "outputs": [
      {
       "metadata": {},
       "output_type": "pyout",
       "prompt_number": 2,
       "text": [
        "['12 tables.ipynb',\n",
        " '20131030  Jason Martinez A Response to \\x93Falling with Helium\\x94.ipynb',\n",
        " '20131104 Japan life tables.ipynb',\n",
        " '20131211_KevinHomework.ipynb',\n",
        " '20131227_GenerateRepositoryReadme.ipynb',\n",
        " '20131227_KevinTestNumpy.ipynb',\n",
        " '20140120_SandAvalanches.ipynb',\n",
        " '20140124_AmeliOrthodontiste.ipynb',\n",
        " '20140130_CylinderFlow.ipynb',\n",
        " '20140206_GoogleFlights.ipynb',\n",
        " '20140220_SinesAndRectangles.ipynb',\n",
        " '20140222_DepartmentTrajectories.ipynb',\n",
        " '20140303_KarplusStrongAlgorithm.ipynb',\n",
        " '20140325_2048Game.ipynb',\n",
        " '20140516_CircularGuitarChordDiagrams.ipynb',\n",
        " 'A synthetic guitar sound.ipynb',\n",
        " 'accords de guitare.ipynb',\n",
        " 'Ameli - post et get.ipynb',\n",
        " 'Books 2013.ipynb',\n",
        " 'Comparaison gammes.ipynb',\n",
        " 'Death probabilities.ipynb',\n",
        " 'Demokratie.ipynb',\n",
        " 'Extracting information from a MusicXML file.ipynb',\n",
        " 'Extracting the notes from the melody of MusicXML file.ipynb',\n",
        " 'Fitzhugh-Nagumo .ipynb',\n",
        " 'Guitar sound frequency analysis.ipynb',\n",
        " 'Kanjidic2 & JMDict.ipynb',\n",
        " 'Musical frequencies.ipynb',\n",
        " 'Parsing ameli direct.ipynb',\n",
        " 'Spelling corrector.ipynb',\n",
        " 'Sudoku solver.ipynb',\n",
        " 'V\\xe9lib pricing.ipynb',\n",
        " 'WiiBoard data analysis.ipynb',\n",
        " 'xkcd - Dating Pools.ipynb']"
       ]
      }
     ],
     "prompt_number": 2
    },
    {
     "cell_type": "code",
     "collapsed": false,
     "input": [
      "import urllib"
     ],
     "language": "python",
     "metadata": {},
     "outputs": [],
     "prompt_number": 3
    },
    {
     "cell_type": "code",
     "collapsed": false,
     "input": [
      "urllib.quote(files[1])"
     ],
     "language": "python",
     "metadata": {},
     "outputs": [
      {
       "metadata": {},
       "output_type": "pyout",
       "prompt_number": 4,
       "text": [
        "'20131030%20%20Jason%20Martinez%20A%20Response%20to%20%93Falling%20with%20Helium%94.ipynb'"
       ]
      }
     ],
     "prompt_number": 4
    },
    {
     "cell_type": "code",
     "collapsed": false,
     "input": [
      "with open('notebooks_links.md', 'w') as f:\n",
      "    f.write(\"\"\"# Links to all the notebooks in this folder to be statically viewed on nbviewer\\n\\n\"\"\")\n",
      "    for filename in files:\n",
      "        f.write(\"[%s](http://nbviewer.ipython.org/urls/raw.github.com/flothesof/posts/master/%s)\\n\" % (filename, urllib.quote(filename)))"
     ],
     "language": "python",
     "metadata": {},
     "outputs": [],
     "prompt_number": 5
    },
    {
     "cell_type": "code",
     "collapsed": false,
     "input": [],
     "language": "python",
     "metadata": {},
     "outputs": [],
     "prompt_number": 5
    },
    {
     "cell_type": "code",
     "collapsed": false,
     "input": [],
     "language": "python",
     "metadata": {},
     "outputs": []
    }
   ],
   "metadata": {}
  }
 ]
}