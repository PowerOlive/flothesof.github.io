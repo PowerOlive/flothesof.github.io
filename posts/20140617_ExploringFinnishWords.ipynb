{
 "metadata": {
  "name": "",
  "signature": "sha256:8e9960b89e916c84faa8f4058bf598ac41284dfb7c9a2948c2d71705e306775c"
 },
 "nbformat": 3,
 "nbformat_minor": 0,
 "worksheets": [
  {
   "cells": [
    {
     "cell_type": "markdown",
     "metadata": {},
     "source": [
      "In this post, we're gonna take a look at the Finnish language. Our starting point is a file found [here](http://www.csc.fi/english/research/sciences/linguistics/taajuussanasto-B9996/view), which contains the 10000 most common words found in Finnish."
     ]
    },
    {
     "cell_type": "code",
     "collapsed": false,
     "input": [
      "import urllib2\n",
      "response = urllib2.urlopen('http://www.csc.fi/english/research/sciences/linguistics/taajuussanasto-B9996/download')\n",
      "words = response.read()"
     ],
     "language": "python",
     "metadata": {},
     "outputs": [],
     "prompt_number": 80
    },
    {
     "cell_type": "markdown",
     "metadata": {},
     "source": [
      "As the file is encoded in utf-8, we need to decode it, meaning convert it to unicode, to use it first. A great help in figuring this out is the fantastic tutorial presentation at [http://farmdev.com/talks/unicode/](http://farmdev.com/talks/unicode/)."
     ]
    },
    {
     "cell_type": "code",
     "collapsed": false,
     "input": [
      "words = words.decode('utf-8')"
     ],
     "language": "python",
     "metadata": {},
     "outputs": [],
     "prompt_number": 81
    },
    {
     "cell_type": "markdown",
     "metadata": {},
     "source": [
      "We can now split the text to its component lines in order to start exploring it."
     ]
    },
    {
     "cell_type": "code",
     "collapsed": true,
     "input": [
      "words = words.splitlines()"
     ],
     "language": "python",
     "metadata": {},
     "outputs": [],
     "prompt_number": 82
    },
    {
     "cell_type": "code",
     "collapsed": false,
     "input": [
      "words[:10]"
     ],
     "language": "python",
     "metadata": {},
     "outputs": [
      {
       "metadata": {},
       "output_type": "pyout",
       "prompt_number": 83,
       "text": [
        "[u'                   Sanahakemisto (laskevan taajuuden mukaan)',\n",
        " u'',\n",
        " u'   N        Abs   Rel    Uppslagsord',\n",
        " u'   1    2716396 4,614851 olla (verbi)',\n",
        " u'   2    1566108 2,660641 ja (konjunktio)',\n",
        " u'   3     593462 1,008225 ei (verbi)',\n",
        " u'   4     538609 0,915036 se (pronomini)',\n",
        " u'   5     443301 0,753118 ett\\xe4 (konjunktio)',\n",
        " u'   6     417984 0,710108 joka (pronomini)',\n",
        " u'   7     344927 0,585992 vuosi (substantiivi)']"
       ]
      }
     ],
     "prompt_number": 83
    },
    {
     "cell_type": "markdown",
     "metadata": {},
     "source": [
      "As we see, the words have to be separated from their headers, which give additional information:\n",
      "\n",
      "- rank\n",
      "- absolute count of word in corpus\n",
      "- relative frequency\n",
      "- the word we're talking about\n",
      "\n",
      "This can be parsed in the following way: we develop a simple lambda function for each part of the header that we can then apply to the whole list."
     ]
    },
    {
     "cell_type": "code",
     "collapsed": false,
     "input": [
      "words[10]"
     ],
     "language": "python",
     "metadata": {},
     "outputs": [
      {
       "metadata": {},
       "output_type": "pyout",
       "prompt_number": 84,
       "text": [
        "u'   8     302803 0,514428 h\\xe4n (pronomini)'"
       ]
      }
     ],
     "prompt_number": 84
    },
    {
     "cell_type": "code",
     "collapsed": false,
     "input": [
      "print words[10]"
     ],
     "language": "python",
     "metadata": {},
     "outputs": [
      {
       "output_type": "stream",
       "stream": "stdout",
       "text": [
        "   8     302803 0,514428 h\u00e4n (pronomini)\n"
       ]
      }
     ],
     "prompt_number": 85
    },
    {
     "cell_type": "markdown",
     "metadata": {},
     "source": [
      "First, the rank."
     ]
    },
    {
     "cell_type": "code",
     "collapsed": false,
     "input": [
      "rank = lambda w: int(w[:8])\n",
      "rank(words[10])"
     ],
     "language": "python",
     "metadata": {},
     "outputs": [
      {
       "metadata": {},
       "output_type": "pyout",
       "prompt_number": 119,
       "text": [
        "8"
       ]
      }
     ],
     "prompt_number": 119
    },
    {
     "cell_type": "markdown",
     "metadata": {},
     "source": [
      "The absolute word count."
     ]
    },
    {
     "cell_type": "code",
     "collapsed": false,
     "input": [
      "abs_count = lambda w: int(w[8:15])\n",
      "abs_count(words[10])"
     ],
     "language": "python",
     "metadata": {},
     "outputs": [
      {
       "metadata": {},
       "output_type": "pyout",
       "prompt_number": 120,
       "text": [
        "302803"
       ]
      }
     ],
     "prompt_number": 120
    },
    {
     "cell_type": "markdown",
     "metadata": {},
     "source": [
      "The relative count."
     ]
    },
    {
     "cell_type": "code",
     "collapsed": false,
     "input": [
      "rel_count = lambda w: float(w[15:25].replace(',', '.'))\n",
      "rel_count(words[10])"
     ],
     "language": "python",
     "metadata": {},
     "outputs": [
      {
       "metadata": {},
       "output_type": "pyout",
       "prompt_number": 121,
       "text": [
        "0.514428"
       ]
      }
     ],
     "prompt_number": 121
    },
    {
     "cell_type": "markdown",
     "metadata": {},
     "source": [
      "Finally, the word itself, in unicode form."
     ]
    },
    {
     "cell_type": "code",
     "collapsed": false,
     "input": [
      "the_word = lambda w: w[25:].split('(')[0]\n",
      "print the_word(words[10])"
     ],
     "language": "python",
     "metadata": {},
     "outputs": [
      {
       "output_type": "stream",
       "stream": "stdout",
       "text": [
        "h\u00e4n \n"
       ]
      }
     ],
     "prompt_number": 122
    },
    {
     "cell_type": "markdown",
     "metadata": {},
     "source": [
      "Having set up these methods, we can apply them to each row that we want to parse from this text file."
     ]
    },
    {
     "cell_type": "code",
     "collapsed": false,
     "input": [
      "word_dict = dict(\n",
      "    [(the_word(w), \n",
      "      (rank(w), abs_count(w), rel_count(w))) for w in words[3:-6]])"
     ],
     "language": "python",
     "metadata": {},
     "outputs": [],
     "prompt_number": 141
    },
    {
     "cell_type": "markdown",
     "metadata": {},
     "source": [
      "With this new word dictionary, we can build a sort of widget that lets us play with the words."
     ]
    },
    {
     "cell_type": "code",
     "collapsed": false,
     "input": [
      "from IPython.html.widgets import interact"
     ],
     "language": "python",
     "metadata": {},
     "outputs": [],
     "prompt_number": 142
    },
    {
     "cell_type": "code",
     "collapsed": false,
     "input": [
      "from IPython.display import HTML, display"
     ],
     "language": "python",
     "metadata": {},
     "outputs": [],
     "prompt_number": 146
    },
    {
     "cell_type": "code",
     "collapsed": false,
     "input": [
      "def show_word(n):\n",
      "    word = word_dict.keys()[n]\n",
      "    s = '<h3>Word: %s</h3><table>\\n' % word\n",
      "    for k,v in zip(('rank', 'relative count', 'absolute count'),\n",
      "                   word_dict[word]):\n",
      "        s += '<tr><td>{0}</td><td>{1}</td></tr>\\n'.format(k,v)\n",
      "    s += '</table>'\n",
      "    display(HTML(s))"
     ],
     "language": "python",
     "metadata": {},
     "outputs": [],
     "prompt_number": 147
    },
    {
     "cell_type": "markdown",
     "metadata": {},
     "source": [
      "Let's test this function with a call on the 3rd index item."
     ]
    },
    {
     "cell_type": "code",
     "collapsed": false,
     "input": [
      "show_word(3)"
     ],
     "language": "python",
     "metadata": {},
     "outputs": [
      {
       "html": [
        "<h3>Word: arvokisa </h3><table>\n",
        "<tr><td>rank</td><td>4188</td></tr>\n",
        "<tr><td>relative count</td><td>1360</td></tr>\n",
        "<tr><td>absolute count</td><td>0.00231</td></tr>\n",
        "</table>"
       ],
       "metadata": {},
       "output_type": "display_data",
       "text": [
        "<IPython.core.display.HTML at 0x5a563d0>"
       ]
      }
     ],
     "prompt_number": 149
    },
    {
     "cell_type": "markdown",
     "metadata": {},
     "source": [
      "And now, let's make this interactive with the latests IPython Widget machinery."
     ]
    },
    {
     "cell_type": "code",
     "collapsed": false,
     "input": [
      "interact(show_word,\n",
      "         n=(0, len(word_dict.keys()) - 1))"
     ],
     "language": "python",
     "metadata": {},
     "outputs": [
      {
       "html": [
        "<h3>Word: keskussairaala </h3><table>\n",
        "<tr><td>rank</td><td>3070</td></tr>\n",
        "<tr><td>relative count</td><td>1994</td></tr>\n",
        "<tr><td>absolute count</td><td>0.003388</td></tr>\n",
        "</table>"
       ],
       "metadata": {},
       "output_type": "display_data",
       "text": [
        "<IPython.core.display.HTML at 0x5a6d150>"
       ]
      }
     ],
     "prompt_number": 150
    },
    {
     "cell_type": "heading",
     "level": 1,
     "metadata": {},
     "source": [
      "Adding a translation from an external website"
     ]
    },
    {
     "cell_type": "markdown",
     "metadata": {},
     "source": [
      "We can easily supplement a translation of the word displayed by using an external website and displaying a search page for the word we're using:"
     ]
    },
    {
     "cell_type": "code",
     "collapsed": false,
     "input": [
      "from IPython.display import IFrame\n",
      "IFrame('http://www.fincd.com/index.php?txtSearch=tunti&lang=fi', width='100%', height=350)"
     ],
     "language": "python",
     "metadata": {},
     "outputs": [
      {
       "html": [
        "\n",
        "        <iframe\n",
        "            width=\"100%\"\n",
        "            height=350\"\n",
        "            src=\"http://www.fincd.com/index.php?txtSearch=tunti&lang=fi\"\n",
        "            frameborder=\"0\"\n",
        "            allowfullscreen\n",
        "        ></iframe>\n",
        "        "
       ],
       "metadata": {},
       "output_type": "pyout",
       "prompt_number": 151,
       "text": [
        "<IPython.lib.display.IFrame at 0x5a6d7d0>"
       ]
      }
     ],
     "prompt_number": 151
    },
    {
     "cell_type": "heading",
     "level": 1,
     "metadata": {},
     "source": [
      "But how to encode unicode strings for use in URLs?"
     ]
    },
    {
     "cell_type": "markdown",
     "metadata": {},
     "source": [
      "Let's use an example of what we want to do: the encoded url for the word kyll\u00e4 is http://www.fincd.com/finnish/kyll%E4.html"
     ]
    },
    {
     "cell_type": "code",
     "collapsed": false,
     "input": [
      "my_word = u'kyll\u00e4'"
     ],
     "language": "python",
     "metadata": {},
     "outputs": [],
     "prompt_number": 205
    },
    {
     "cell_type": "markdown",
     "metadata": {},
     "source": [
      "This word has to be encoded somehow. Looking at the website, we find it uses the `iso-8859-1` coding. Let's try that on our word."
     ]
    },
    {
     "cell_type": "code",
     "collapsed": false,
     "input": [
      "my_word.encode('iso-8859-1')"
     ],
     "language": "python",
     "metadata": {},
     "outputs": [
      {
       "metadata": {},
       "output_type": "pyout",
       "prompt_number": 210,
       "text": [
        "'kyll\\xe4'"
       ]
      }
     ],
     "prompt_number": 210
    },
    {
     "cell_type": "markdown",
     "metadata": {},
     "source": [
      "Once encoded, we can use the `quote` method to make it ready for urls:"
     ]
    },
    {
     "cell_type": "code",
     "collapsed": false,
     "input": [
      "urllib2.quote(my_word.encode('iso-8859-1'))"
     ],
     "language": "python",
     "metadata": {},
     "outputs": [
      {
       "metadata": {},
       "output_type": "pyout",
       "prompt_number": 213,
       "text": [
        "'kyll%E4'"
       ]
      }
     ],
     "prompt_number": 213
    },
    {
     "cell_type": "markdown",
     "metadata": {},
     "source": [
      "Finally, we can put this together:"
     ]
    },
    {
     "cell_type": "code",
     "collapsed": false,
     "input": [
      "print 'http://www.fincd.com/index.php?txtSearch=%s&lang=fi' % urllib2.quote(my_word.encode('iso-8859-1'))"
     ],
     "language": "python",
     "metadata": {},
     "outputs": [
      {
       "output_type": "stream",
       "stream": "stdout",
       "text": [
        "http://www.fincd.com/index.php?txtSearch=kyll%E4&lang=fi\n"
       ]
      }
     ],
     "prompt_number": 214
    },
    {
     "cell_type": "markdown",
     "metadata": {},
     "source": [
      "Good! Now, let's write the word and translation thing and let's interact with it."
     ]
    },
    {
     "cell_type": "code",
     "collapsed": false,
     "input": [
      "def show_word_and_translation(n):\n",
      "    word = word_dict.keys()[n]\n",
      "    s = '<h3>Word: %s</h3><table>\\n' % word\n",
      "    for k,v in zip(('rank', 'relative count', 'absolute count'),\n",
      "                   word_dict[word]):\n",
      "        s += '<tr><td>{0}</td><td>{1}</td></tr>\\n'.format(k,v)\n",
      "    s += '</table>'\n",
      "    display(HTML(s))\n",
      "    url = 'http://www.fincd.com/index.php?txtSearch=%s&lang=fi' % urllib2.quote(word[:-1].encode('iso-8859-1'))\n",
      "    display(IFrame(url, width='100%', height=350))"
     ],
     "language": "python",
     "metadata": {},
     "outputs": [],
     "prompt_number": 229
    },
    {
     "cell_type": "code",
     "collapsed": false,
     "input": [
      "interact(show_word_and_translation,\n",
      "         n=(0, len(word_dict.keys()) - 1))"
     ],
     "language": "python",
     "metadata": {},
     "outputs": [
      {
       "html": [
        "<h3>Word: riesa </h3><table>\n",
        "<tr><td>rank</td><td>7448</td></tr>\n",
        "<tr><td>relative count</td><td>644</td></tr>\n",
        "<tr><td>absolute count</td><td>0.001094</td></tr>\n",
        "</table>"
       ],
       "metadata": {},
       "output_type": "display_data",
       "text": [
        "<IPython.core.display.HTML at 0x5b2bb90>"
       ]
      },
      {
       "html": [
        "\n",
        "        <iframe\n",
        "            width=\"100%\"\n",
        "            height=350\"\n",
        "            src=\"http://www.fincd.com/index.php?txtSearch=riesa&lang=fi\"\n",
        "            frameborder=\"0\"\n",
        "            allowfullscreen\n",
        "        ></iframe>\n",
        "        "
       ],
       "metadata": {},
       "output_type": "display_data",
       "text": [
        "<IPython.lib.display.IFrame at 0x5502f90>"
       ]
      }
     ],
     "prompt_number": 230
    },
    {
     "cell_type": "code",
     "collapsed": false,
     "input": [],
     "language": "python",
     "metadata": {},
     "outputs": []
    },
    {
     "cell_type": "markdown",
     "metadata": {},
     "source": [
      "Can we do better than that? Let's see if we can just take the table with the content from the website."
     ]
    },
    {
     "cell_type": "code",
     "collapsed": false,
     "input": [
      "response = urllib2.urlopen('http://www.fincd.com/finnish/kyll%E4.html')\n",
      "source = response.read()"
     ],
     "language": "python",
     "metadata": {},
     "outputs": [],
     "prompt_number": 240
    },
    {
     "cell_type": "code",
     "collapsed": false,
     "input": [
      "source_split = source.decode(\"iso-8859-1\").splitlines()"
     ],
     "language": "python",
     "metadata": {},
     "outputs": [],
     "prompt_number": 245
    },
    {
     "cell_type": "markdown",
     "metadata": {},
     "source": [
      "The really interesting part is here:"
     ]
    },
    {
     "cell_type": "code",
     "collapsed": false,
     "input": [
      "source_split[85:120]"
     ],
     "language": "python",
     "metadata": {},
     "outputs": [
      {
       "metadata": {},
       "output_type": "pyout",
       "prompt_number": 251,
       "text": [
        "[u'\\t<a href=\"/friends/\">[Links]</a>&nbsp;',\n",
        " u'\\t<a href=\"javascript:bookmark()\">[Bookmark]</a>',\n",
        " u'  </td></tr>',\n",
        " u'</table>',\n",
        " u'',\n",
        " u'<table width=\"728\" align=\"center\" id=\"tbDotBorder\">',\n",
        " u'  <tr>',\n",
        " u'    <td id=\"lang_cell\" width=\"20%\">Finnish:</td>',\n",
        " u'    <td id=\"helper_cell\" width=\"80%\"><a href = \"/finnish/kyll%E4.html\">kyll\\xe4</a>\\t',\n",
        " u'\\t</td>',\n",
        " u'  </tr>',\n",
        " u'  <tr>',\n",
        " u'    <td id=\"lang_cell\" width=\"20%\">English:</td>',\n",
        " u'    <td id=\"content_cell\" width=\"80%\">',\n",
        " u'\\t<li><a href=\"/english/yes.html\">yes</a></li>',\n",
        " u'\\t<p id=\"msg\"></p>\\t</td>',\n",
        " u'  </tr>',\n",
        " u'  <tr>',\n",
        " u'    <td colspan=\"2\" id=\"suggestion_cell\"><!--Write your own explain here--></td>',\n",
        " u'  </tr>',\n",
        " u'  <tr>',\n",
        " u'  <td colspan=\"2\">',\n",
        " u'  <table width=\"100%\">',\n",
        " u'    <td width=\"50%\" id=\"discuss_cell\"> </td>',\n",
        " u'    <td width=\"50%\" id=\"discuss_cell\"> </td>',\n",
        " u'  </tr>',\n",
        " u'  </table>',\n",
        " u'  </td>',\n",
        " u'  <tr><td colspan=\"3\" align=\"right\" id=\"copy_right\"><small><a href = \"/old/\" title=\"Suomi Englanti sanakirja \">Suomi Englanti Suomi sanakirja Beta5</a></small></td></tr>',\n",
        " u'</table>',\n",
        " u'',\n",
        " u'<br>',\n",
        " u'',\n",
        " u'<table width=\"728\" align=\"center\" id=\"tbDotBorder\" style=\"border-style:none\">',\n",
        " u'<tr>']"
       ]
      }
     ],
     "prompt_number": 251
    },
    {
     "cell_type": "markdown",
     "metadata": {},
     "source": [
      "We can the exact indices for the table with the information here:"
     ]
    },
    {
     "cell_type": "code",
     "collapsed": false,
     "input": [
      "source_split.index(u'<table width=\"728\" align=\"center\" id=\"tbDotBorder\">')"
     ],
     "language": "python",
     "metadata": {},
     "outputs": [
      {
       "metadata": {},
       "output_type": "pyout",
       "prompt_number": 247,
       "text": [
        "90"
       ]
      }
     ],
     "prompt_number": 247
    },
    {
     "cell_type": "code",
     "collapsed": false,
     "input": [
      "source_split.index(u'<table width=\"728\" align=\"center\" id=\"tbDotBorder\" style=\"border-style:none\">')"
     ],
     "language": "python",
     "metadata": {},
     "outputs": [
      {
       "metadata": {},
       "output_type": "pyout",
       "prompt_number": 249,
       "text": [
        "118"
       ]
      }
     ],
     "prompt_number": 249
    },
    {
     "cell_type": "markdown",
     "metadata": {},
     "source": [
      "This can easily be extracted to HTML."
     ]
    },
    {
     "cell_type": "code",
     "collapsed": false,
     "input": [
      "HTML(\"\".join(source_split[90:118]))"
     ],
     "language": "python",
     "metadata": {},
     "outputs": [
      {
       "html": [
        "<table width=\"728\" align=\"center\" id=\"tbDotBorder\">  <tr>    <td id=\"lang_cell\" width=\"20%\">Finnish:</td>    <td id=\"helper_cell\" width=\"80%\"><a href = \"/finnish/kyll%E4.html\">kyll\u00e4</a>\t\t</td>  </tr>  <tr>    <td id=\"lang_cell\" width=\"20%\">English:</td>    <td id=\"content_cell\" width=\"80%\">\t<li><a href=\"/english/yes.html\">yes</a></li>\t<p id=\"msg\"></p>\t</td>  </tr>  <tr>    <td colspan=\"2\" id=\"suggestion_cell\"><!--Write your own explain here--></td>  </tr>  <tr>  <td colspan=\"2\">  <table width=\"100%\">    <td width=\"50%\" id=\"discuss_cell\"> </td>    <td width=\"50%\" id=\"discuss_cell\"> </td>  </tr>  </table>  </td>  <tr><td colspan=\"3\" align=\"right\" id=\"copy_right\"><small><a href = \"/old/\" title=\"Suomi Englanti sanakirja \">Suomi Englanti Suomi sanakirja Beta5</a></small></td></tr></table><br>"
       ],
       "metadata": {},
       "output_type": "pyout",
       "prompt_number": 250,
       "text": [
        "<IPython.core.display.HTML at 0x5b35770>"
       ]
      }
     ],
     "prompt_number": 250
    },
    {
     "cell_type": "markdown",
     "metadata": {},
     "source": [
      "Let's design a function that does exactly this job:"
     ]
    },
    {
     "cell_type": "code",
     "collapsed": false,
     "input": [
      "def extract_word_definition(source):\n",
      "    source_split = source.decode(\"iso-8859-1\").splitlines()\n",
      "    start = source_split.index(u'<table width=\"728\" align=\"center\" id=\"tbDotBorder\">')\n",
      "    stop = source_split.index(u'<table width=\"728\" align=\"center\" id=\"tbDotBorder\" style=\"border-style:none\">')\n",
      "    return HTML(\"\".join(source_split[start:stop]))"
     ],
     "language": "python",
     "metadata": {},
     "outputs": [],
     "prompt_number": 254
    },
    {
     "cell_type": "code",
     "collapsed": false,
     "input": [
      "extract_word_definition(source)"
     ],
     "language": "python",
     "metadata": {},
     "outputs": [
      {
       "html": [
        "<table width=\"728\" align=\"center\" id=\"tbDotBorder\">  <tr>    <td id=\"lang_cell\" width=\"20%\">Finnish:</td>    <td id=\"helper_cell\" width=\"80%\"><a href = \"/finnish/kyll%E4.html\">kyll\u00e4</a>\t\t</td>  </tr>  <tr>    <td id=\"lang_cell\" width=\"20%\">English:</td>    <td id=\"content_cell\" width=\"80%\">\t<li><a href=\"/english/yes.html\">yes</a></li>\t<p id=\"msg\"></p>\t</td>  </tr>  <tr>    <td colspan=\"2\" id=\"suggestion_cell\"><!--Write your own explain here--></td>  </tr>  <tr>  <td colspan=\"2\">  <table width=\"100%\">    <td width=\"50%\" id=\"discuss_cell\"> </td>    <td width=\"50%\" id=\"discuss_cell\"> </td>  </tr>  </table>  </td>  <tr><td colspan=\"3\" align=\"right\" id=\"copy_right\"><small><a href = \"/old/\" title=\"Suomi Englanti sanakirja \">Suomi Englanti Suomi sanakirja Beta5</a></small></td></tr></table><br>"
       ],
       "metadata": {},
       "output_type": "pyout",
       "prompt_number": 255,
       "text": [
        "<IPython.core.display.HTML at 0x5b35790>"
       ]
      }
     ],
     "prompt_number": 255
    },
    {
     "cell_type": "markdown",
     "metadata": {},
     "source": [
      "We can integrate this into the existing code:"
     ]
    },
    {
     "cell_type": "code",
     "collapsed": false,
     "input": [
      "def show_word_and_translation_html_only(n):\n",
      "    word = word_dict.keys()[n]\n",
      "    s = '<h3>Word: %s</h3><table>\\n' % word\n",
      "    for k,v in zip(('rank', 'relative count', 'absolute count'),\n",
      "                   word_dict[word]):\n",
      "        s += '<tr><td>{0}</td><td>{1}</td></tr>\\n'.format(k,v)\n",
      "    s += '</table>'\n",
      "    display(HTML(s))\n",
      "    url = 'http://www.fincd.com/index.php?txtSearch=%s&lang=fi' % urllib2.quote(word[:-1].encode('iso-8859-1'))\n",
      "    display(extract_word_definition(urllib2.urlopen(url).read()))"
     ],
     "language": "python",
     "metadata": {},
     "outputs": [],
     "prompt_number": 258
    },
    {
     "cell_type": "code",
     "collapsed": false,
     "input": [
      "interact(show_word_and_translation_html_only,\n",
      "         n=(0, len(word_dict.keys()) - 1))"
     ],
     "language": "python",
     "metadata": {},
     "outputs": [
      {
       "html": [
        "<h3>Word: my\u00f6nt\u00e4minen </h3><table>\n",
        "<tr><td>rank</td><td>5171</td></tr>\n",
        "<tr><td>relative count</td><td>1030</td></tr>\n",
        "<tr><td>absolute count</td><td>0.00175</td></tr>\n",
        "</table>"
       ],
       "metadata": {},
       "output_type": "display_data",
       "text": [
        "<IPython.core.display.HTML at 0x5b40350>"
       ]
      },
      {
       "html": [
        "<table width=\"728\" align=\"center\" id=\"tbDotBorder\">  <tr>    <td id=\"lang_cell\" width=\"20%\">Finnish:</td>    <td id=\"helper_cell\" width=\"80%\"><a href = \"/finnish/my%F6nt%E4minen.html\">my\u00f6nt\u00e4minen</a>\t\t</td>  </tr>  <tr>    <td id=\"lang_cell\" width=\"20%\">English:</td>    <td id=\"content_cell\" width=\"80%\">\t<li><a href=\"/english/acknowledgement.html\">acknowledgement</a></li><li><a href=\"/english/affirmation.html\">affirmation</a></li>\t<p id=\"msg\"></p>\t</td>  </tr>  <tr>    <td colspan=\"2\" id=\"suggestion_cell\"><!--Write your own explain here--></td>  </tr>  <tr>  <td colspan=\"2\">  <table width=\"100%\">    <td width=\"50%\" id=\"discuss_cell\"> </td>    <td width=\"50%\" id=\"discuss_cell\"> </td>  </tr>  </table>  </td>  <tr><td colspan=\"3\" align=\"right\" id=\"copy_right\"><small><a href = \"/old/\" title=\"Suomi Englanti sanakirja \">Suomi Englanti Suomi sanakirja Beta5</a></small></td></tr></table><br>"
       ],
       "metadata": {},
       "output_type": "display_data",
       "text": [
        "<IPython.core.display.HTML at 0x5a6d450>"
       ]
      }
     ],
     "prompt_number": 259
    },
    {
     "cell_type": "code",
     "collapsed": false,
     "input": [
      "from lxml import etree\n",
      "\n",
      "tree = etree.fromstring('<html><head><title>foo</title></head><body><div class=\"name\"><p>foo</p></div><div class=\"name\"><ul><li>bar</li></ul></div></body></html>')\n",
      "for elem in tree.xpath(\"//div[@class='name']\"):\n",
      "     # pretty_print ensures that it is nicely formatted.\n",
      "     print etree.tostring(elem, pretty_print=True)"
     ],
     "language": "python",
     "metadata": {},
     "outputs": [
      {
       "output_type": "stream",
       "stream": "stdout",
       "text": [
        "<div class=\"name\">\n",
        "  <p>foo</p>\n",
        "</div>\n",
        "\n",
        "<div class=\"name\">\n",
        "  <ul>\n",
        "    <li>bar</li>\n",
        "  </ul>\n",
        "</div>\n",
        "\n"
       ]
      }
     ],
     "prompt_number": 260
    },
    {
     "cell_type": "code",
     "collapsed": false,
     "input": [
      "etree.fromstring(\"\".join(source_split[91:117]))"
     ],
     "language": "python",
     "metadata": {},
     "outputs": [
      {
       "ename": "XMLSyntaxError",
       "evalue": "Extra content at the end of the document, line 1, column 76",
       "output_type": "pyerr",
       "traceback": [
        "\u001b[1;36m  File \u001b[1;32m\"<string>\"\u001b[1;36m, line \u001b[1;32munknown\u001b[0m\n\u001b[1;31mXMLSyntaxError\u001b[0m\u001b[1;31m:\u001b[0m Extra content at the end of the document, line 1, column 76\n"
       ]
      }
     ],
     "prompt_number": 269
    },
    {
     "cell_type": "code",
     "collapsed": false,
     "input": [
      "extract_word_definition(source)"
     ],
     "language": "python",
     "metadata": {},
     "outputs": [
      {
       "html": [
        "<table width=\"728\" align=\"center\" id=\"tbDotBorder\">  <tr>    <td id=\"lang_cell\" width=\"20%\">Finnish:</td>    <td id=\"helper_cell\" width=\"80%\"><a href = \"/finnish/kyll%E4.html\">kyll\u00e4</a>\t\t</td>  </tr>  <tr>    <td id=\"lang_cell\" width=\"20%\">English:</td>    <td id=\"content_cell\" width=\"80%\">\t<li><a href=\"/english/yes.html\">yes</a></li>\t<p id=\"msg\"></p>\t</td>  </tr>  <tr>    <td colspan=\"2\" id=\"suggestion_cell\"><!--Write your own explain here--></td>  </tr>  <tr>  <td colspan=\"2\">  <table width=\"100%\">    <td width=\"50%\" id=\"discuss_cell\"> </td>    <td width=\"50%\" id=\"discuss_cell\"> </td>  </tr>  </table>  </td>  <tr><td colspan=\"3\" align=\"right\" id=\"copy_right\"><small><a href = \"/old/\" title=\"Suomi Englanti sanakirja \">Suomi Englanti Suomi sanakirja Beta5</a></small></td></tr></table><br>"
       ],
       "metadata": {},
       "output_type": "pyout",
       "prompt_number": 263,
       "text": [
        "<IPython.core.display.HTML at 0x5502890>"
       ]
      }
     ],
     "prompt_number": 263
    },
    {
     "cell_type": "code",
     "collapsed": false,
     "input": [],
     "language": "python",
     "metadata": {},
     "outputs": []
    }
   ],
   "metadata": {}
  }
 ]
}