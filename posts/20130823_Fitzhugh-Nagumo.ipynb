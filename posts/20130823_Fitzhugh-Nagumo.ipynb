{
 "metadata": {
  "name": "Fitzhugh-Nagumo "
 },
 "nbformat": 3,
 "nbformat_minor": 0,
 "worksheets": [
  {
   "cells": [
    {
     "cell_type": "markdown",
     "metadata": {},
     "source": [
      "Link to the article: [http://pages.physics.cornell.edu/~myers/teaching/ComputationalMethods/ComputerExercises/CardiacDynamics/CardiacDynamics.html](http://pages.physics.cornell.edu/~myers/teaching/ComputationalMethods/ComputerExercises/CardiacDynamics/CardiacDynamics.html)"
     ]
    },
    {
     "cell_type": "markdown",
     "metadata": {},
     "source": [
      "Equations:\n",
      "\n",
      "$$\\partial V / \\partial t = \\frac{1}{\\epsilon}(V - V^3 / 3 - W)$$\n",
      "\n",
      "$$ \\partial W / \\partial t = \\epsilon (V - \\gamma W + \\beta)$$"
     ]
    },
    {
     "cell_type": "markdown",
     "metadata": {},
     "source": [
      "Plotting the nullclines (curves along which the time derivative of V and W are zero). By setting the derivatives above to zero, we can combine both to form the following equations:\n",
      "$$V - V^3 = W$$\n",
      "$$1 / \\gamma V + \\beta = W$$\n"
     ]
    },
    {
     "cell_type": "markdown",
     "metadata": {},
     "source": [
      "This combines into the following parametric curve W as a function of V:\n",
      "$$ V - V^3 - 1 / \\gamma V - \\beta = 0$$    "
     ]
    },
    {
     "cell_type": "code",
     "collapsed": false,
     "input": [
      "def PlotNullclines(gamma, beta):\n",
      "    \"\"\"Plot the V- and W-nullclines for specified gamma and beta.\n",
      "    Optionally also find the fixed point (vstar, wstar) for the\n",
      "    specified gamma and beta, and plot the (vstar, wstar) as a point\n",
      "    along with the nullclines.\n",
      "\n",
      "    Using pylab, multiple calls to pylab.plot() can be used to\n",
      "    plot the various curves in one figure.  To plot only the\n",
      "    nullclines, you may want to include a call to pylab.show() in\n",
      "    this function, but you may want to remove it later when plotting\n",
      "    nullclines along with trajectories.\n",
      "    \"\"\"\n",
      "    pass"
     ],
     "language": "python",
     "metadata": {},
     "outputs": []
    }
   ],
   "metadata": {}
  }
 ]
}