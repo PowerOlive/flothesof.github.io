{
 "metadata": {
  "name": "12 tables"
 },
 "nbformat": 3,
 "nbformat_minor": 0,
 "worksheets": [
  {
   "cells": [
    {
     "cell_type": "markdown",
     "metadata": {},
     "source": [
      "Taken from [http://blog.wolfram.com/2013/06/26/is-there-any-point-to-the-12-times-table/](http://blog.wolfram.com/2013/06/26/is-there-any-point-to-the-12-times-table/)"
     ]
    },
    {
     "cell_type": "code",
     "collapsed": false,
     "input": [
      "table = zeros((12, 12), dtype=int16)\n",
      "for i in range(12):\n",
      "    for j in range(12):\n",
      "        table[i, j] = (i + 1) * (j + 1)\n",
      "print table"
     ],
     "language": "python",
     "metadata": {},
     "outputs": [
      {
       "output_type": "stream",
       "stream": "stdout",
       "text": [
        "[[  1   2   3   4   5   6   7   8   9  10  11  12]\n",
        " [  2   4   6   8  10  12  14  16  18  20  22  24]\n",
        " [  3   6   9  12  15  18  21  24  27  30  33  36]\n",
        " [  4   8  12  16  20  24  28  32  36  40  44  48]\n",
        " [  5  10  15  20  25  30  35  40  45  50  55  60]\n",
        " [  6  12  18  24  30  36  42  48  54  60  66  72]\n",
        " [  7  14  21  28  35  42  49  56  63  70  77  84]\n",
        " [  8  16  24  32  40  48  56  64  72  80  88  96]\n",
        " [  9  18  27  36  45  54  63  72  81  90  99 108]\n",
        " [ 10  20  30  40  50  60  70  80  90 100 110 120]\n",
        " [ 11  22  33  44  55  66  77  88  99 110 121 132]\n",
        " [ 12  24  36  48  60  72  84  96 108 120 132 144]]\n"
       ]
      }
     ],
     "prompt_number": 4
    },
    {
     "cell_type": "markdown",
     "metadata": {},
     "source": [
      "The example approximation problem: 7203 * 6892."
     ]
    },
    {
     "cell_type": "code",
     "collapsed": false,
     "input": [
      "print 7203 * 6892\n",
      "print 7000 * 7000\n",
      "print (7000 * 7000 - 7203 * 6892) / float(7203 * 6892) * 100"
     ],
     "language": "python",
     "metadata": {},
     "outputs": [
      {
       "output_type": "stream",
       "stream": "stdout",
       "text": [
        "49643076\n",
        "49000000\n",
        "-1.29539918115\n"
       ]
      }
     ],
     "prompt_number": 6
    },
    {
     "cell_type": "markdown",
     "metadata": {},
     "source": [
      "If I knew my 72 times table, I could have made it 7200 * 6900."
     ]
    },
    {
     "cell_type": "code",
     "collapsed": false,
     "input": [
      "print 7203 * 6892\n",
      "print 7200 * 6900\n",
      "print (7200 * 6900 - 7203 * 6892) / float(7203 * 6892) * 100"
     ],
     "language": "python",
     "metadata": {},
     "outputs": [
      {
       "output_type": "stream",
       "stream": "stdout",
       "text": [
        "49643076\n",
        "49680000\n",
        "0.074378952666\n"
       ]
      }
     ],
     "prompt_number": 7
    },
    {
     "cell_type": "markdown",
     "metadata": {},
     "source": [
      "Let's build an approximation function that takes into account the lead digit we want to use. This is just the proof of concept."
     ]
    },
    {
     "cell_type": "code",
     "collapsed": false,
     "input": [
      "def approximate(number, lead):\n",
      "    return lead * 10 ** (round(log10(number / lead)))"
     ],
     "language": "python",
     "metadata": {},
     "outputs": [],
     "prompt_number": 12
    },
    {
     "cell_type": "code",
     "collapsed": false,
     "input": [
      "approximate(12345, 9)    "
     ],
     "language": "python",
     "metadata": {},
     "outputs": [
      {
       "output_type": "pyout",
       "prompt_number": 13,
       "text": [
        "9000.0"
       ]
      }
     ],
     "prompt_number": 13
    },
    {
     "cell_type": "markdown",
     "metadata": {},
     "source": [
      "Now, let's do the same thing but with a list of lead digits."
     ]
    },
    {
     "cell_type": "code",
     "collapsed": false,
     "input": [
      "def approximate(number, possible_leads):\n",
      "    approx = array([lead * 10 ** (round(log10(number / lead))) for lead in possible_leads])\n",
      "    return approx[abs(number - approx).argmin()]"
     ],
     "language": "python",
     "metadata": {},
     "outputs": [],
     "prompt_number": 30
    },
    {
     "cell_type": "code",
     "collapsed": false,
     "input": [
      "approximate(18345, [1, 2, 3, 4])"
     ],
     "language": "python",
     "metadata": {},
     "outputs": [
      {
       "output_type": "pyout",
       "prompt_number": 32,
       "text": [
        "20000.0"
       ]
      }
     ],
     "prompt_number": 32
    },
    {
     "cell_type": "markdown",
     "metadata": {},
     "source": [
      "The approximate product is just the product of approximates."
     ]
    },
    {
     "cell_type": "code",
     "collapsed": false,
     "input": [
      "def approximate_product(a, b, possible_leads):\n",
      "    return approximate(a, possible_leads) * approximate(b, possible_leads)"
     ],
     "language": "python",
     "metadata": {},
     "outputs": [],
     "prompt_number": 33
    },
    {
     "cell_type": "markdown",
     "metadata": {},
     "source": [
      "From there follows the relative error."
     ]
    },
    {
     "cell_type": "code",
     "collapsed": false,
     "input": [
      "def relative_error(a, b, possible_leads):\n",
      "    return abs(approximate_product(a, b, possible_leads) / (a * b) - 1)"
     ],
     "language": "python",
     "metadata": {},
     "outputs": [],
     "prompt_number": 34
    },
    {
     "cell_type": "code",
     "collapsed": false,
     "input": [
      "relative_error(545, 999, range(1, 11))"
     ],
     "language": "python",
     "metadata": {},
     "outputs": [
      {
       "output_type": "pyout",
       "prompt_number": 53,
       "text": [
        "0.081650457797246778"
       ]
      }
     ],
     "prompt_number": 53
    },
    {
     "cell_type": "code",
     "collapsed": false,
     "input": [
      "relative_error(549, 999, range(1, 11))"
     ],
     "language": "python",
     "metadata": {},
     "outputs": [
      {
       "output_type": "pyout",
       "prompt_number": 55,
       "text": [
        "0.088341529142986319"
       ]
      }
     ],
     "prompt_number": 55
    },
    {
     "cell_type": "markdown",
     "metadata": {},
     "source": [
      "On to serious things: a random sampling of random numbers and calculating the mean error with 10's table and 12's table."
     ]
    },
    {
     "cell_type": "code",
     "collapsed": false,
     "input": [
      "def mean_error_uniform(max_lead_digit, N=100000):\n",
      "    return mean([relative_error(randint(1, 1e6), randint(1, 1e6), range(1, max_lead_digit + 1)) for i in xrange(N)])"
     ],
     "language": "python",
     "metadata": {},
     "outputs": [],
     "prompt_number": 195
    },
    {
     "cell_type": "code",
     "collapsed": false,
     "input": [
      "mean_error_uniform(10)"
     ],
     "language": "python",
     "metadata": {},
     "outputs": [
      {
       "output_type": "pyout",
       "prompt_number": 196,
       "text": [
        "0.093972687794082327"
       ]
      }
     ],
     "prompt_number": 196
    },
    {
     "cell_type": "code",
     "collapsed": false,
     "input": [
      "mean_error_uniform(10, 10000)"
     ],
     "language": "python",
     "metadata": {},
     "outputs": [
      {
       "output_type": "pyout",
       "prompt_number": 197,
       "text": [
        "0.095496434040729439"
       ]
      }
     ],
     "prompt_number": 197
    },
    {
     "cell_type": "code",
     "collapsed": false,
     "input": [
      "mean_error_uniform(12)"
     ],
     "language": "python",
     "metadata": {},
     "outputs": [
      {
       "output_type": "pyout",
       "prompt_number": 198,
       "text": [
        "0.081577214232046474"
       ]
      }
     ],
     "prompt_number": 198
    },
    {
     "cell_type": "code",
     "collapsed": false,
     "input": [
      "mean_errors = [mean_error_uniform(i, 10000) for i in range(2, 21)]"
     ],
     "language": "python",
     "metadata": {},
     "outputs": [],
     "prompt_number": 199
    },
    {
     "cell_type": "code",
     "collapsed": false,
     "input": [
      "plot(range(2, 21), mean_errors)\n",
      "ylim((0, 0.5))\n",
      "grid(True)"
     ],
     "language": "python",
     "metadata": {},
     "outputs": [
      {
       "output_type": "display_data",
       "png": "[encoded data removed]"
      }
     ],
     "prompt_number": 200
    },
    {
     "cell_type": "markdown",
     "metadata": {},
     "source": [
      "I notice that the routine is quite slow. Maybe I could make it faster with some fancy Numpy trick?\n",
      "\n",
      "- Does approximate support arrays?"
     ]
    },
    {
     "cell_type": "code",
     "collapsed": false,
     "input": [
      "approximate(ones((10, 1)), range(1, 4))"
     ],
     "language": "python",
     "metadata": {},
     "outputs": [
      {
       "ename": "TypeError",
       "evalue": "only length-1 arrays can be converted to Python scalars",
       "output_type": "pyerr",
       "traceback": [
        "\u001b[1;31m---------------------------------------------------------------------------\u001b[0m\n\u001b[1;31mTypeError\u001b[0m                                 Traceback (most recent call last)",
        "\u001b[1;32m<ipython-input-75-41cdb1b69303>\u001b[0m in \u001b[0;36m<module>\u001b[1;34m()\u001b[0m\n\u001b[1;32m----> 1\u001b[1;33m \u001b[0mapproximate\u001b[0m\u001b[1;33m(\u001b[0m\u001b[0mones\u001b[0m\u001b[1;33m(\u001b[0m\u001b[1;33m(\u001b[0m\u001b[1;36m10\u001b[0m\u001b[1;33m,\u001b[0m \u001b[1;36m1\u001b[0m\u001b[1;33m)\u001b[0m\u001b[1;33m)\u001b[0m\u001b[1;33m,\u001b[0m \u001b[0mrange\u001b[0m\u001b[1;33m(\u001b[0m\u001b[1;36m1\u001b[0m\u001b[1;33m,\u001b[0m \u001b[1;36m4\u001b[0m\u001b[1;33m)\u001b[0m\u001b[1;33m)\u001b[0m\u001b[1;33m\u001b[0m\u001b[0m\n\u001b[0m",
        "\u001b[1;32m<ipython-input-30-95979ec72590>\u001b[0m in \u001b[0;36mapproximate\u001b[1;34m(number, possible_leads)\u001b[0m\n\u001b[0;32m      1\u001b[0m \u001b[1;32mdef\u001b[0m \u001b[0mapproximate\u001b[0m\u001b[1;33m(\u001b[0m\u001b[0mnumber\u001b[0m\u001b[1;33m,\u001b[0m \u001b[0mpossible_leads\u001b[0m\u001b[1;33m)\u001b[0m\u001b[1;33m:\u001b[0m\u001b[1;33m\u001b[0m\u001b[0m\n\u001b[1;32m----> 2\u001b[1;33m     \u001b[0mapprox\u001b[0m \u001b[1;33m=\u001b[0m \u001b[0marray\u001b[0m\u001b[1;33m(\u001b[0m\u001b[1;33m[\u001b[0m\u001b[0mlead\u001b[0m \u001b[1;33m*\u001b[0m \u001b[1;36m10\u001b[0m \u001b[1;33m**\u001b[0m \u001b[1;33m(\u001b[0m\u001b[0mround\u001b[0m\u001b[1;33m(\u001b[0m\u001b[0mlog10\u001b[0m\u001b[1;33m(\u001b[0m\u001b[0mnumber\u001b[0m \u001b[1;33m/\u001b[0m \u001b[0mlead\u001b[0m\u001b[1;33m)\u001b[0m\u001b[1;33m)\u001b[0m\u001b[1;33m)\u001b[0m \u001b[1;32mfor\u001b[0m \u001b[0mlead\u001b[0m \u001b[1;32min\u001b[0m \u001b[0mpossible_leads\u001b[0m\u001b[1;33m]\u001b[0m\u001b[1;33m)\u001b[0m\u001b[1;33m\u001b[0m\u001b[0m\n\u001b[0m\u001b[0;32m      3\u001b[0m     \u001b[1;32mreturn\u001b[0m \u001b[0mapprox\u001b[0m\u001b[1;33m[\u001b[0m\u001b[0mabs\u001b[0m\u001b[1;33m(\u001b[0m\u001b[0mnumber\u001b[0m \u001b[1;33m-\u001b[0m \u001b[0mapprox\u001b[0m\u001b[1;33m)\u001b[0m\u001b[1;33m.\u001b[0m\u001b[0margmin\u001b[0m\u001b[1;33m(\u001b[0m\u001b[1;33m)\u001b[0m\u001b[1;33m]\u001b[0m\u001b[1;33m\u001b[0m\u001b[0m\n",
        "\u001b[1;31mTypeError\u001b[0m: only length-1 arrays can be converted to Python scalars"
       ]
      }
     ],
     "prompt_number": 75
    },
    {
     "cell_type": "markdown",
     "metadata": {},
     "source": [
      "No, it doesn't! So let's just use fewer trials in the functions..."
     ]
    },
    {
     "cell_type": "code",
     "collapsed": false,
     "input": [
      "mean_errors = [mean_error_uniform(i, N=10000) for i in range(2, 51)]"
     ],
     "language": "python",
     "metadata": {},
     "outputs": [],
     "prompt_number": 201
    },
    {
     "cell_type": "code",
     "collapsed": false,
     "input": [
      "plot(range(2, 51), mean_errors)\n",
      "ylim((0, 0.5))\n",
      "grid(True)"
     ],
     "language": "python",
     "metadata": {},
     "outputs": [
      {
       "output_type": "display_data",
       "png": "[encoded data removed]"
      }
     ],
     "prompt_number": 202
    },
    {
     "cell_type": "markdown",
     "metadata": {},
     "source": [
      "Let's display the relative improvement for each value."
     ]
    },
    {
     "cell_type": "code",
     "collapsed": false,
     "input": [
      "mean_errors = array(mean_errors)\n",
      "plot(range(2, 50), (mean_errors[:-1] - mean_errors[1:]) / mean_errors[:-1])\n",
      "ylim((0, 0.6))\n",
      "grid(True)"
     ],
     "language": "python",
     "metadata": {},
     "outputs": [
      {
       "output_type": "display_data",
       "png": "[encoded data removed]"
      }
     ],
     "prompt_number": 203
    },
    {
     "cell_type": "markdown",
     "metadata": {},
     "source": [
      "Relative improvement in outcome, per extra fact memorized."
     ]
    },
    {
     "cell_type": "code",
     "collapsed": false,
     "input": [
      "rng = arange(2, 50)\n",
      "denom = map(lambda n: n ** 2 - (n - 1) ** 2, rng)\n",
      "plot(rng, (mean_errors[:-1] - mean_errors[1:]) / mean_errors[:-1] / (denom))\n",
      "ylim((0, 0.05))\n",
      "grid(True)"
     ],
     "language": "python",
     "metadata": {},
     "outputs": [
      {
       "output_type": "display_data",
       "png": "[encoded data removed]"
      }
     ],
     "prompt_number": 204
    },
    {
     "cell_type": "markdown",
     "metadata": {},
     "source": [
      "Simulating with Benford's law: $\\forall d \\in \\[1, 9\\] P(d)=\\log_{10}(1 + \\frac{1}{d})$\n",
      "Steps to follow:\n",
      "\n",
      "- Compute cumulative function of probabilities $G$\n",
      "- for each numbers I want to draw, draw a random number $r$ following $U(0, 1)$, the digit to take is the smallest $a$ such that $G(a) > r$"
     ]
    },
    {
     "cell_type": "code",
     "collapsed": false,
     "input": [
      "probs = log10(1 + 1/arange(1, 10, dtype=float32))\n",
      "G = cumsum(probs)\n",
      "G"
     ],
     "language": "python",
     "metadata": {},
     "outputs": [
      {
       "output_type": "pyout",
       "prompt_number": 99,
       "text": [
        "array([ 0.30103001,  0.47712126,  0.60206002,  0.69897002,  0.77815127,\n",
        "        0.84509802,  0.90309   ,  0.95424253,  1.        ], dtype=float32)"
       ]
      }
     ],
     "prompt_number": 99
    },
    {
     "cell_type": "code",
     "collapsed": false,
     "input": [
      "r = rand(1)\n",
      "r"
     ],
     "language": "python",
     "metadata": {},
     "outputs": [
      {
       "output_type": "pyout",
       "prompt_number": 120,
       "text": [
        "array([ 0.12225127])"
       ]
      }
     ],
     "prompt_number": 120
    },
    {
     "cell_type": "code",
     "collapsed": false,
     "input": [
      "(r < G).argmax()"
     ],
     "language": "python",
     "metadata": {},
     "outputs": [
      {
       "output_type": "pyout",
       "prompt_number": 121,
       "text": [
        "0"
       ]
      }
     ],
     "prompt_number": 121
    },
    {
     "cell_type": "code",
     "collapsed": false,
     "input": [
      "probs = log10(1 + 1/arange(1, 10, dtype=float32))\n",
      "G = cumsum(probs)\n",
      "def random_benford_number():\n",
      "   return (rand(1) < G).argmax() + 1"
     ],
     "language": "python",
     "metadata": {},
     "outputs": [],
     "prompt_number": 168
    },
    {
     "cell_type": "code",
     "collapsed": false,
     "input": [
      "random_benford_number()"
     ],
     "language": "python",
     "metadata": {},
     "outputs": [
      {
       "output_type": "pyout",
       "prompt_number": 169,
       "text": [
        "2"
       ]
      }
     ],
     "prompt_number": 169
    },
    {
     "cell_type": "code",
     "collapsed": false,
     "input": [
      "benford_numbers = [random_benford_number() for i in range(1000000)]\n",
      "bar(arange(1, 10), [count_nonzero(benford_numbers == i) for i in arange(1, 10)], label='Empirical')\n",
      "plot(arange(1, 10) , sum(benford_numbers) * log10(2) * log10(1 + 1/arange(1, 10, dtype=float32)), 'or', label=\"Benford's law\")\n",
      "legend()"
     ],
     "language": "python",
     "metadata": {},
     "outputs": [
      {
       "output_type": "pyout",
       "prompt_number": 174,
       "text": [
        "<matplotlib.legend.Legend at 0xb3558f0>"
       ]
      },
      {
       "output_type": "display_data",
       "png": "[encoded data removed]"
      }
     ],
     "prompt_number": 174
    },
    {
     "cell_type": "code",
     "collapsed": false,
     "input": [
      "%timeit random_benford_number()"
     ],
     "language": "python",
     "metadata": {},
     "outputs": [
      {
       "output_type": "stream",
       "stream": "stdout",
       "text": [
        "100000 loops, best of 3: 6.44 us per loop\n"
       ]
      }
     ],
     "prompt_number": 170
    },
    {
     "cell_type": "code",
     "collapsed": false,
     "input": [
      "%timeit randint(1, 1e6)"
     ],
     "language": "python",
     "metadata": {},
     "outputs": [
      {
       "output_type": "stream",
       "stream": "stdout",
       "text": [
        "10000000 loops, best of 3: 114 ns per loop\n"
       ]
      }
     ],
     "prompt_number": 166
    },
    {
     "cell_type": "code",
     "collapsed": false,
     "input": [
      "6.44 / 0.114"
     ],
     "language": "python",
     "metadata": {},
     "outputs": [
      {
       "output_type": "pyout",
       "prompt_number": 171,
       "text": [
        "56.49122807017544"
       ]
      }
     ],
     "prompt_number": 171
    },
    {
     "cell_type": "code",
     "collapsed": false,
     "input": [
      "def random_integer_benford(n):\n",
      "    r = randint(1, n)\n",
      "    return float(\"\".join([str(random_benford_number()) for digit in str(r)]))\n",
      "        "
     ],
     "language": "python",
     "metadata": {},
     "outputs": [],
     "prompt_number": 175
    },
    {
     "cell_type": "code",
     "collapsed": false,
     "input": [
      "random_integer_benford(1000)"
     ],
     "language": "python",
     "metadata": {},
     "outputs": [
      {
       "output_type": "pyout",
       "prompt_number": 189,
       "text": [
        "814.0"
       ]
      }
     ],
     "prompt_number": 189
    },
    {
     "cell_type": "markdown",
     "metadata": {},
     "source": [
      "Finally, we can rerun the analysis on the data with \"real numbers\"."
     ]
    },
    {
     "cell_type": "code",
     "collapsed": false,
     "input": [
      "def mean_error_benford(max_lead_digit, N=100000):\n",
      "    return mean([relative_error(random_integer_benford(1e6), random_integer_benford(1e6), range(1, max_lead_digit + 1)) for i in xrange(N)])"
     ],
     "language": "python",
     "metadata": {},
     "outputs": [],
     "prompt_number": 205
    },
    {
     "cell_type": "code",
     "collapsed": false,
     "input": [
      "mean_error_benford(10, N=10000)"
     ],
     "language": "python",
     "metadata": {},
     "outputs": [
      {
       "output_type": "pyout",
       "prompt_number": 206,
       "text": [
        "0.14795717887345317"
       ]
      }
     ],
     "prompt_number": 206
    },
    {
     "cell_type": "code",
     "collapsed": false,
     "input": [
      "mean_errors_benford = [mean_error_benford(i, N=10000) for i in range(2, 21)]"
     ],
     "language": "python",
     "metadata": {},
     "outputs": [],
     "prompt_number": 207
    },
    {
     "cell_type": "code",
     "collapsed": false,
     "input": [
      "mean_errors_benford = array(mean_errors_benford)"
     ],
     "language": "python",
     "metadata": {},
     "outputs": [],
     "prompt_number": 212
    },
    {
     "cell_type": "code",
     "collapsed": false,
     "input": [
      "rng = arange(2, 20)\n",
      "plot(rng + 1, (mean_errors_benford[:-1] - mean_errors_benford[1:]) / mean_errors_benford[:-1])\n",
      "grid(True)\n",
      "ylim((0, 0.5))"
     ],
     "language": "python",
     "metadata": {},
     "outputs": [
      {
       "output_type": "pyout",
       "prompt_number": 217,
       "text": [
        "(0, 0.5)"
       ]
      },
      {
       "output_type": "display_data",
       "png": "[encoded data removed]"
      }
     ],
     "prompt_number": 217
    },
    {
     "cell_type": "code",
     "collapsed": false,
     "input": [
      "rng = arange(2, 20)\n",
      "denom = map(lambda n: n ** 2 - (n - 1) ** 2, rng)\n",
      "plot(rng, (mean_errors_benford[:-1] - mean_errors_benford[1:]) / mean_errors_benford[:-1] / (denom))\n",
      "ylim((0, 0.05))\n",
      "grid(True)"
     ],
     "language": "python",
     "metadata": {},
     "outputs": [
      {
       "output_type": "display_data",
       "png": "[encoded data removed]"
      }
     ],
     "prompt_number": 218
    },
    {
     "cell_type": "markdown",
     "metadata": {},
     "source": [
      "The last result is quite different from what is shown on the original link but I'd like to finish here.\n",
      "My conclusions are as follows:\n",
      "\n",
      "- Very interesting blog article\n",
      "- IPython Notebook allows replicating most results\n",
      "- I learned about (and how to simulate) Benford's law\n",
      "- the function I wrote are sloooooooow and it would be lovely to learn (in a more general way) how to make my own functions fast by building more easily on Numpy functions\n",
      "- I often run into confusions because I'm using both Python lists and Numpy arrays. I believe I should try to use only the latter."
     ]
    }
   ],
   "metadata": {}
  }
 ]
}
