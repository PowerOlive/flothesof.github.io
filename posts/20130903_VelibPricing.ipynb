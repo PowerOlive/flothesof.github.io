{
 "metadata": {
  "name": "V\u00e9lib pricing"
 },
 "nbformat": 3,
 "nbformat_minor": 0,
 "worksheets": [
  {
   "cells": [
    {
     "cell_type": "markdown",
     "metadata": {},
     "source": [
      "# Some data about V\u00e9lib price structure\n",
      "\n",
      "[Link to the source from the official V\u00e9lib website](http://en.velib.paris.fr/Subscriptions-and-fees/Usage-charges)\n",
      "\n",
      "The total price is broken down in two parts. The first part is a fixed cost that you pay for a one year subscription to the service. The second part comes from a charge that you pay for each bicycle rental, with a hunch: the first 30 (standard contract) or 45 minutes (\"Passion\" contract) are free of charge while the following half-hours each have an increasing cost. You pay:\n",
      "\n",
      "- 1 \u20ac for the first half hour\n",
      "- 2 \u20ac for the second half hour\n",
      "- 4 \u20ac for every additional half hour\n",
      "\n",
      "Let's see what this looks like graphically."
     ]
    },
    {
     "cell_type": "code",
     "collapsed": false,
     "input": [
      "def cost(travel_time, passion=False):\n",
      "    \"\"\" returns cost of a V\u00e9lib rental as a function of travel time in minutes\n",
      "    and whether the user has subscribed to the \"Passion\" offer\"\"\"\n",
      "    \n",
      "    cost = 0\n",
      "    \n",
      "    if passion:\n",
      "        free_time = 45\n",
      "    else:\n",
      "        free_time = 30\n",
      "    \n",
      "    remaining_time = travel_time - free_time\n",
      "    \n",
      "    if remaining_time >= 0:\n",
      "        n = int(remaining_time) / 30 + 1 \n",
      "        cost = (n >= 1) * 1 + (n >= 2) * 2 + (n >=3) * (n - 2) * 4\n",
      "    else:\n",
      "        cost = 0\n",
      "    \n",
      "    return cost"
     ],
     "language": "python",
     "metadata": {},
     "outputs": [],
     "prompt_number": 2
    },
    {
     "cell_type": "code",
     "collapsed": false,
     "input": [
      "for i in [15, 30, 45, 60, 89, 90]:\n",
      "    print \"cost of %i minutes is %i \u20ac\" % (i, cost(i))\n"
     ],
     "language": "python",
     "metadata": {},
     "outputs": [
      {
       "output_type": "stream",
       "stream": "stdout",
       "text": [
        "cost of 15 minutes is 0 \u20ac\n",
        "cost of 30 minutes is 1 \u20ac\n",
        "cost of 45 minutes is 1 \u20ac\n",
        "cost of 60 minutes is 3 \u20ac\n",
        "cost of 89 minutes is 3 \u20ac\n",
        "cost of 90 minutes is 7 \u20ac\n"
       ]
      }
     ],
     "prompt_number": 9
    },
    {
     "cell_type": "code",
     "collapsed": false,
     "input": [
      "minutes = arange(0, 250, 1)\n",
      "costs = map(cost, minutes)"
     ],
     "language": "python",
     "metadata": {},
     "outputs": [],
     "prompt_number": 15
    },
    {
     "cell_type": "code",
     "collapsed": false,
     "input": [
      "plot(minutes / 30., costs)\n",
      "grid(True)\n",
      "xlabel(u\"half hours travelled with a V\u00e9lib\")\n",
      "ylabel(u\"cost in \u20ac\")"
     ],
     "language": "python",
     "metadata": {},
     "outputs": [
      {
       "output_type": "pyout",
       "prompt_number": 27,
       "text": [
        "<matplotlib.text.Text at 0x62666b0>"
       ]
      },
      {
       "output_type": "display_data",
       "png": "[encoded data removed]"
      }
     ],
     "prompt_number": 27
    }
   ],
   "metadata": {}
  }
 ]
}