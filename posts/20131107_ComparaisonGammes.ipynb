{
 "metadata": {
  "name": ""
 },
 "nbformat": 3,
 "nbformat_minor": 0,
 "worksheets": [
  {
   "cells": [
    {
     "cell_type": "code",
     "collapsed": false,
     "input": [
      "%pylab inline"
     ],
     "language": "python",
     "metadata": {},
     "outputs": [
      {
       "output_type": "stream",
       "stream": "stdout",
       "text": [
        "Populating the interactive namespace from numpy and matplotlib\n"
       ]
      }
     ],
     "prompt_number": 1
    },
    {
     "cell_type": "code",
     "collapsed": false,
     "input": [
      "def saut_quinte(n, freq_ref):\n",
      "    return freq_ref * (3./2) ** n\n",
      "        "
     ],
     "language": "python",
     "metadata": {},
     "outputs": [],
     "prompt_number": 2
    },
    {
     "cell_type": "code",
     "collapsed": false,
     "input": [
      "saut_quinte(-1, 660)"
     ],
     "language": "python",
     "metadata": {},
     "outputs": [
      {
       "metadata": {},
       "output_type": "pyout",
       "prompt_number": 3,
       "text": [
        "440.0"
       ]
      }
     ],
     "prompt_number": 3
    },
    {
     "cell_type": "code",
     "collapsed": false,
     "input": [
      "ints = arange(-6, 6)\n",
      "ints "
     ],
     "language": "python",
     "metadata": {},
     "outputs": [
      {
       "metadata": {},
       "output_type": "pyout",
       "prompt_number": 4,
       "text": [
        "array([-6, -5, -4, -3, -2, -1,  0,  1,  2,  3,  4,  5])"
       ]
      }
     ],
     "prompt_number": 4
    },
    {
     "cell_type": "code",
     "collapsed": false,
     "input": [
      "freqs_iter = map(lambda s: saut_quinte(s, 440), ints)\n",
      "freqs_iter"
     ],
     "language": "python",
     "metadata": {},
     "outputs": [
      {
       "metadata": {},
       "output_type": "pyout",
       "prompt_number": 5,
       "text": [
        "[38.628257887517144,\n",
        " 57.942386831275726,\n",
        " 86.913580246913568,\n",
        " 130.37037037037035,\n",
        " 195.55555555555554,\n",
        " 293.33333333333331,\n",
        " 440.0,\n",
        " 660.0,\n",
        " 990.0,\n",
        " 1485.0,\n",
        " 2227.5,\n",
        " 3341.25]"
       ]
      }
     ],
     "prompt_number": 5
    },
    {
     "cell_type": "code",
     "collapsed": false,
     "input": [
      "def back_to_ref(freq, freq_ref):\n",
      "    if freq < freq_ref:\n",
      "        while freq < freq_ref:\n",
      "            freq = freq * 2.\n",
      "        return freq\n",
      "    elif freq > 2 * freq_ref:\n",
      "        while freq > 2 * freq_ref:\n",
      "            freq = freq / 2.\n",
      "        return freq\n",
      "    else:\n",
      "        return freq"
     ],
     "language": "python",
     "metadata": {},
     "outputs": [],
     "prompt_number": 6
    },
    {
     "cell_type": "code",
     "collapsed": false,
     "input": [
      "back_to_ref(57, 440)"
     ],
     "language": "python",
     "metadata": {},
     "outputs": [
      {
       "metadata": {},
       "output_type": "pyout",
       "prompt_number": 7,
       "text": [
        "456.0"
       ]
      }
     ],
     "prompt_number": 7
    },
    {
     "cell_type": "code",
     "collapsed": false,
     "input": [
      "c_scale = map(lambda s: back_to_ref(s, 440), freqs_iter)\n",
      "c_scale"
     ],
     "language": "python",
     "metadata": {},
     "outputs": [
      {
       "metadata": {},
       "output_type": "pyout",
       "prompt_number": 8,
       "text": [
        "[618.0521262002743,\n",
        " 463.53909465020581,\n",
        " 695.30864197530855,\n",
        " 521.48148148148141,\n",
        " 782.22222222222217,\n",
        " 586.66666666666663,\n",
        " 440.0,\n",
        " 660.0,\n",
        " 495.0,\n",
        " 742.5,\n",
        " 556.875,\n",
        " 835.3125]"
       ]
      }
     ],
     "prompt_number": 8
    },
    {
     "cell_type": "code",
     "collapsed": false,
     "input": [
      "len(c_scale)"
     ],
     "language": "python",
     "metadata": {},
     "outputs": [
      {
       "metadata": {},
       "output_type": "pyout",
       "prompt_number": 9,
       "text": [
        "12"
       ]
      }
     ],
     "prompt_number": 9
    },
    {
     "cell_type": "code",
     "collapsed": false,
     "input": [
      "def get_scale(n):\n",
      "    total_scale = c_scale + c_scale + c_scale\n",
      "    return total_scale[12 + n - 1: 12 + n + 6]"
     ],
     "language": "python",
     "metadata": {},
     "outputs": [],
     "prompt_number": 10
    },
    {
     "cell_type": "code",
     "collapsed": false,
     "input": [
      "get_scale(6)"
     ],
     "language": "python",
     "metadata": {},
     "outputs": [
      {
       "metadata": {},
       "output_type": "pyout",
       "prompt_number": 11,
       "text": [
        "[586.66666666666663, 440.0, 660.0, 495.0, 742.5, 556.875, 835.3125]"
       ]
      }
     ],
     "prompt_number": 11
    },
    {
     "cell_type": "code",
     "collapsed": false,
     "input": [
      "get_scale(7)"
     ],
     "language": "python",
     "metadata": {},
     "outputs": [
      {
       "metadata": {},
       "output_type": "pyout",
       "prompt_number": 12,
       "text": [
        "[440.0, 660.0, 495.0, 742.5, 556.875, 835.3125, 618.0521262002743]"
       ]
      }
     ],
     "prompt_number": 12
    },
    {
     "cell_type": "code",
     "collapsed": false,
     "input": [
      "map(lambda s: back_to_ref(s, 660), get_scale(7))"
     ],
     "language": "python",
     "metadata": {},
     "outputs": [
      {
       "metadata": {},
       "output_type": "pyout",
       "prompt_number": 13,
       "text": [
        "[880.0, 660.0, 990.0, 742.5, 1113.75, 835.3125, 1236.1042524005486]"
       ]
      }
     ],
     "prompt_number": 13
    },
    {
     "cell_type": "code",
     "collapsed": false,
     "input": [
      "def calc_ratio(seq):\n",
      "    seq = map(lambda s: back_to_ref(s, seq[1]), seq)\n",
      "    ratios = map(lambda s: s/seq[1], seq)\n",
      "    ratios.sort()\n",
      "    return ratios"
     ],
     "language": "python",
     "metadata": {},
     "outputs": [],
     "prompt_number": 14
    },
    {
     "cell_type": "code",
     "collapsed": false,
     "input": [
      "calc_ratio(get_scale(6))"
     ],
     "language": "python",
     "metadata": {},
     "outputs": [
      {
       "metadata": {},
       "output_type": "pyout",
       "prompt_number": 15,
       "text": [
        "[1.0, 1.125, 1.265625, 1.3333333333333333, 1.5, 1.6875, 1.8984375]"
       ]
      }
     ],
     "prompt_number": 15
    },
    {
     "cell_type": "code",
     "collapsed": false,
     "input": [
      "calc_ratio(get_scale(7))"
     ],
     "language": "python",
     "metadata": {},
     "outputs": [
      {
       "metadata": {},
       "output_type": "pyout",
       "prompt_number": 16,
       "text": [
        "[1.0, 1.125, 1.265625, 1.3333333333333333, 1.5, 1.6875, 1.8728852309099222]"
       ]
      }
     ],
     "prompt_number": 16
    },
    {
     "cell_type": "code",
     "collapsed": false,
     "input": [
      "calc_ratio(get_scale(2))"
     ],
     "language": "python",
     "metadata": {},
     "outputs": [
      {
       "metadata": {},
       "output_type": "pyout",
       "prompt_number": 42,
       "text": [
        "[1.0,\n",
        " 1.125,\n",
        " 1.2656250000000002,\n",
        " 1.3333333333333337,\n",
        " 1.5,\n",
        " 1.6875000000000002,\n",
        " 1.8984375000000002]"
       ]
      }
     ],
     "prompt_number": 42
    },
    {
     "cell_type": "code",
     "collapsed": false,
     "input": [
      "def ratio_diff(n):\n",
      "    ref = calc_ratio(get_scale(6))\n",
      "    diff = array(calc_ratio(get_scale(n))) - array(ref)\n",
      "    return diff"
     ],
     "language": "python",
     "metadata": {},
     "outputs": [],
     "prompt_number": 18
    },
    {
     "cell_type": "code",
     "collapsed": false,
     "input": [
      "ratio_diff(0)"
     ],
     "language": "python",
     "metadata": {},
     "outputs": [
      {
       "metadata": {},
       "output_type": "pyout",
       "prompt_number": 39,
       "text": [
        "array([  0.00000000e+00,   0.00000000e+00,   0.00000000e+00,\n",
        "         1.81910197e-02,   2.22044605e-16,   0.00000000e+00,\n",
        "         0.00000000e+00])"
       ]
      }
     ],
     "prompt_number": 39
    },
    {
     "cell_type": "code",
     "collapsed": false,
     "input": [
      "ratio_diff(7)"
     ],
     "language": "python",
     "metadata": {},
     "outputs": [
      {
       "metadata": {},
       "output_type": "pyout",
       "prompt_number": 20,
       "text": [
        "array([ 0.        ,  0.        ,  0.        ,  0.        ,  0.        ,\n",
        "        0.        , -0.02555227])"
       ]
      }
     ],
     "prompt_number": 20
    },
    {
     "cell_type": "code",
     "collapsed": false,
     "input": [
      "figure(figsize=(10, 10))\n",
      "for i in range(12):\n",
      "    plot(ratio_diff(i),label='%i' % i)\n",
      "legend()"
     ],
     "language": "python",
     "metadata": {},
     "outputs": [
      {
       "metadata": {},
       "output_type": "pyout",
       "prompt_number": 44,
       "text": [
        "<matplotlib.legend.Legend at 0xac0088c>"
       ]
      },
      {
       "metadata": {},
       "output_type": "display_data",
       "png": "[encoded data removed]",
       "text": [
        "<matplotlib.figure.Figure at 0xac065cc>"
       ]
      }
     ],
     "prompt_number": 44
    },
    {
     "cell_type": "code",
     "collapsed": false,
     "input": [
      "i = 7\n",
      "plot(range(i, i + 7), ratio_diff(i))\n",
      "i = 8\n",
      "plot(range(i, i + 7), ratio_diff(i))"
     ],
     "language": "python",
     "metadata": {},
     "outputs": [
      {
       "metadata": {},
       "output_type": "pyout",
       "prompt_number": 22,
       "text": [
        "[<matplotlib.lines.Line2D at 0xac5f7ac>]"
       ]
      },
      {
       "metadata": {},
       "output_type": "display_data",
       "png": "[encoded data removed]",
       "text": [
        "<matplotlib.figure.Figure at 0xaa7f26c>"
       ]
      }
     ],
     "prompt_number": 22
    },
    {
     "cell_type": "code",
     "collapsed": false,
     "input": [
      "mat = zeros((12, 12+7))\n",
      "for i in range(12):\n",
      "    mat[i, i:i+7] = ratio_diff(i)"
     ],
     "language": "python",
     "metadata": {},
     "outputs": [],
     "prompt_number": 45
    },
    {
     "cell_type": "code",
     "collapsed": false,
     "input": [
      "matshow(mat)\n",
      "colorbar()"
     ],
     "language": "python",
     "metadata": {},
     "outputs": [
      {
       "metadata": {},
       "output_type": "pyout",
       "prompt_number": 47,
       "text": [
        "<matplotlib.colorbar.Colorbar instance at 0xb147e2c>"
       ]
      },
      {
       "metadata": {},
       "output_type": "display_data",
       "png": "[encoded data removed]",
       "text": [
        "<matplotlib.figure.Figure at 0xb11c0ac>"
       ]
      }
     ],
     "prompt_number": 47
    },
    {
     "cell_type": "code",
     "collapsed": false,
     "input": [
      "ratio_diff(10)"
     ],
     "language": "python",
     "metadata": {},
     "outputs": [
      {
       "metadata": {},
       "output_type": "pyout",
       "prompt_number": 37,
       "text": [
        "array([ 0.        , -0.01514209, -0.01703485,  0.        ,  0.        ,\n",
        "       -0.02271313, -0.02555227])"
       ]
      }
     ],
     "prompt_number": 37
    },
    {
     "cell_type": "code",
     "collapsed": false,
     "input": [],
     "language": "python",
     "metadata": {},
     "outputs": []
    }
   ],
   "metadata": {}
  }
 ]
}