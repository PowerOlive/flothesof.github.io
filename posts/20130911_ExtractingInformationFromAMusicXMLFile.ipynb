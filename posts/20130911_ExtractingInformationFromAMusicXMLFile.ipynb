{
 "metadata": {
  "name": "Extracting information from a MusicXML file"
 },
 "nbformat": 3,
 "nbformat_minor": 0,
 "worksheets": [
  {
   "cells": [
    {
     "cell_type": "markdown",
     "metadata": {},
     "source": [
      "The subject of this writing is to extract meaningful information from a MusicXML file I downloaded from [Wikifonia](http://fr.wikifonia.org/node/4607). You can find the specs of the *.mxml* file which is an compressed XML file [here](http://www.musicxml.com/UserManuals/MusicXML/MusicXML.htm). "
     ]
    },
    {
     "cell_type": "heading",
     "level": 1,
     "metadata": {},
     "source": [
      "Extracting a MusicXML file"
     ]
    },
    {
     "cell_type": "markdown",
     "metadata": {},
     "source": [
      "To start, we're gonna work on unzipping the file automatically with some bash commands."
     ]
    },
    {
     "cell_type": "code",
     "collapsed": false,
     "input": [
      "%%bash\n",
      "cd files\n",
      "mkdir tmp\n",
      "unzip \"Joseph Kosma, English: Johnny Mercer, French: Jacques Prevert - Autumn Leaves.mxl\" -d tmp"
     ],
     "language": "python",
     "metadata": {},
     "outputs": [
      {
       "output_type": "stream",
       "stream": "stdout",
       "text": [
        "Archive:  Joseph Kosma, English: Johnny Mercer, French: Jacques Prevert - Autumn Leaves.mxl\n"
       ]
      },
      {
       "output_type": "stream",
       "stream": "stderr",
       "text": [
        "mkdir: cannot create directory \u2018tmp\u2019: File exists\n",
        "replace tmp/musicXML.xml? [y]es, [n]o, [A]ll, [N]one, [r]ename:  NULL\n",
        "(EOF or read error, treating as \"[N]one\" ...)\n"
       ]
      }
     ],
     "prompt_number": 1
    },
    {
     "cell_type": "markdown",
     "metadata": {},
     "source": [
      "I created a temp directory because I might wanna delete the tmp/musicXML.xml file after working with it. For the time being, I'll just leave it there. The conclusion of this step is that we can now work with the XML in the file and parse it."
     ]
    },
    {
     "cell_type": "heading",
     "level": 1,
     "metadata": {},
     "source": [
      "Parsing a MusicXML file for chords"
     ]
    },
    {
     "cell_type": "heading",
     "level": 2,
     "metadata": {},
     "source": [
      "Example chords"
     ]
    },
    {
     "cell_type": "markdown",
     "metadata": {},
     "source": [
      "What we're really interested in is extracting the chord succession of a song. It turns out the developers of MusicXML have a nice [tutorial on chords](http://www.musicxml.com/UserManuals/MusicXML/MusicXML.htm#TutMusicXML6-1.htm). Essentially, it boils down to parsing some XML code. Let's see an example for two different chords below (a G major 6 bass D and a A(9)):"
     ]
    },
    {
     "cell_type": "code",
     "collapsed": false,
     "input": [
      "g_chord = \"\"\"\n",
      "      <harmony default-y=\"100\">\n",
      "        <root>\n",
      "          <root-step>G</root-step>\n",
      "        </root>\n",
      "        <kind halign=\"center\" text=\"6\">major-sixth</kind>\n",
      "        <bass>\n",
      "          <bass-step>D</bass-step>\n",
      "        </bass>\n",
      "      </harmony>\n",
      "\"\"\""
     ],
     "language": "python",
     "metadata": {},
     "outputs": [],
     "prompt_number": 1
    },
    {
     "cell_type": "code",
     "collapsed": false,
     "input": [
      "a_chord =\"\"\"      \n",
      "      <harmony default-y=\"100\">\n",
      "        <root>\n",
      "          <root-step>A</root-step>\n",
      "        </root>\n",
      "        <kind halign=\"center\" parentheses-degrees=\"yes\">major</kind>\n",
      "        <degree>\n",
      "          <degree-value>9</degree-value>\n",
      "          <degree-alter>0</degree-alter>\n",
      "          <degree-type text=\"\">add</degree-type>\n",
      "        </degree>\n",
      "      </harmony>\n",
      "      \"\"\""
     ],
     "language": "python",
     "metadata": {},
     "outputs": [],
     "prompt_number": 2
    },
    {
     "cell_type": "markdown",
     "metadata": {},
     "source": [
      "Let's see if we can parse those chords correctly."
     ]
    },
    {
     "cell_type": "code",
     "collapsed": false,
     "input": [
      "import xml.etree.cElementTree as ET"
     ],
     "language": "python",
     "metadata": {},
     "outputs": [],
     "prompt_number": 3
    },
    {
     "cell_type": "code",
     "collapsed": false,
     "input": [
      "tree = ET.fromstring(g_chord)\n",
      "tree"
     ],
     "language": "python",
     "metadata": {},
     "outputs": [
      {
       "output_type": "pyout",
       "prompt_number": 4,
       "text": [
        "<Element 'harmony' at 0x9e3bd88>"
       ]
      }
     ],
     "prompt_number": 4
    },
    {
     "cell_type": "markdown",
     "metadata": {},
     "source": [
      "First thing would be to get the root of the chord and the type."
     ]
    },
    {
     "cell_type": "code",
     "collapsed": false,
     "input": [
      "for elem in tree.findall('root/root-step'):\n",
      "    print elem.text"
     ],
     "language": "python",
     "metadata": {},
     "outputs": [
      {
       "output_type": "stream",
       "stream": "stdout",
       "text": [
        "G\n"
       ]
      }
     ],
     "prompt_number": 5
    },
    {
     "cell_type": "code",
     "collapsed": false,
     "input": [
      "for elem in tree.findall('kind'):\n",
      "    print elem.text"
     ],
     "language": "python",
     "metadata": {},
     "outputs": [
      {
       "output_type": "stream",
       "stream": "stdout",
       "text": [
        "major-sixth\n"
       ]
      }
     ],
     "prompt_number": 6
    },
    {
     "cell_type": "code",
     "collapsed": false,
     "input": [
      "def get_chords(xml):\n",
      "    tree = ET.fromstringlist(xml)\n",
      "    roots = []\n",
      "    kinds = []\n",
      "    for elem in tree.findall('root/root-step'):\n",
      "        roots.append(elem.text)\n",
      "    for elem in tree.findall('kind'):\n",
      "        kinds.append(elem.text)\n",
      "    return (roots, kinds)"
     ],
     "language": "python",
     "metadata": {},
     "outputs": [],
     "prompt_number": 7
    },
    {
     "cell_type": "code",
     "collapsed": false,
     "input": [
      "get_chords(g_chord)"
     ],
     "language": "python",
     "metadata": {},
     "outputs": [
      {
       "output_type": "pyout",
       "prompt_number": 8,
       "text": [
        "(['G'], ['major-sixth'])"
       ]
      }
     ],
     "prompt_number": 8
    },
    {
     "cell_type": "code",
     "collapsed": false,
     "input": [
      "get_chords(a_chord)"
     ],
     "language": "python",
     "metadata": {},
     "outputs": [
      {
       "output_type": "pyout",
       "prompt_number": 9,
       "text": [
        "(['A'], ['major'])"
       ]
      }
     ],
     "prompt_number": 9
    },
    {
     "cell_type": "heading",
     "level": 2,
     "metadata": {},
     "source": [
      "The whole example song"
     ]
    },
    {
     "cell_type": "code",
     "collapsed": false,
     "input": [
      "xml = file(\"files/tmp/musicXML.xml\", 'r').readlines()\n",
      "len(xml)"
     ],
     "language": "python",
     "metadata": {},
     "outputs": [
      {
       "output_type": "pyout",
       "prompt_number": 10,
       "text": [
        "4280"
       ]
      }
     ],
     "prompt_number": 10
    },
    {
     "cell_type": "code",
     "collapsed": false,
     "input": [
      "print get_chords(xml)"
     ],
     "language": "python",
     "metadata": {},
     "outputs": [
      {
       "output_type": "stream",
       "stream": "stdout",
       "text": [
        "([], [])\n"
       ]
      }
     ],
     "prompt_number": 11
    },
    {
     "cell_type": "markdown",
     "metadata": {},
     "source": [
      "Here we see that our function doesn't work. But that's because we calibrated it on the examples. We don't really know the exact structure of the real file, therefore we're going to modify the existing code to search for all root/root-step elements starting anywhere in the depth of the tree."
     ]
    },
    {
     "cell_type": "code",
     "collapsed": false,
     "input": [
      "def get_chords(xml):\n",
      "    tree = ET.fromstringlist(xml)\n",
      "    roots = []\n",
      "    kinds = []\n",
      "    for elem in tree.findall('.//root/root-step'):\n",
      "        roots.append(elem.text)\n",
      "    for elem in tree.findall('.//kind'):\n",
      "        kinds.append(elem.text)\n",
      "    return (roots, kinds)"
     ],
     "language": "python",
     "metadata": {},
     "outputs": [],
     "prompt_number": 12
    },
    {
     "cell_type": "code",
     "collapsed": false,
     "input": [
      "print get_chords(xml)"
     ],
     "language": "python",
     "metadata": {},
     "outputs": [
      {
       "output_type": "stream",
       "stream": "stdout",
       "text": [
        "(['E', 'A', 'F', 'B', 'E', 'E', 'C', 'B', 'A', 'B', 'E', 'E', 'E', 'A', 'B', 'A', 'B', 'E', 'E', 'C', 'B', 'A', 'B', 'E', 'E', 'A', 'B', 'A', 'B', 'E', 'E', 'F', 'B', 'E', 'D', 'G', 'F', 'B', 'E', 'C', 'B', 'B', 'A', 'D', 'G', 'C', 'F', 'B', 'E', 'A', 'D', 'G', 'C', 'F', 'B', 'E', 'F', 'B', 'E', 'A', 'D', 'G', 'F', 'B', 'E', 'A', 'D', 'G', 'A', 'A', 'B', 'E', 'E'], ['minor', 'minor', 'half-diminished', 'dominant', 'minor', 'minor-seventh', 'dominant', 'dominant', 'minor', 'dominant', 'minor', 'dominant', 'dominant', 'minor', 'dominant', 'minor', 'dominant', 'minor', 'minor-seventh', 'dominant', 'dominant', 'minor', 'dominant', 'minor', 'dominant', 'minor', 'dominant', 'minor', 'dominant', 'minor', 'minor-seventh', 'dominant', 'dominant', 'minor', 'dominant', 'major', 'half-diminished', 'dominant', 'minor', 'dominant', 'augmented-seventh', 'dominant', 'minor-seventh', 'dominant', 'major-seventh', 'major-seventh', 'half-diminished', 'dominant', 'minor-seventh', 'minor-seventh', 'dominant', 'major-seventh', 'major-seventh', 'half-diminished', 'dominant', 'minor-seventh', 'half-diminished', 'dominant', 'minor-seventh', 'minor-seventh', 'dominant', 'major-seventh', 'half-diminished', 'dominant', 'minor-seventh', 'dominant', 'minor-seventh', 'dominant', 'major', 'minor', 'dominant', 'minor-seventh', 'minor-seventh'])\n"
       ]
      }
     ],
     "prompt_number": 13
    },
    {
     "cell_type": "markdown",
     "metadata": {},
     "source": [
      "If we zip the information together, we'll get the transitions."
     ]
    },
    {
     "cell_type": "code",
     "collapsed": false,
     "input": [
      "(roots, kinds) = get_chords(xml)\n",
      "chords = []\n",
      "for (root, kind) in zip(roots, kinds):\n",
      "    chords.append(\" \".join([root, kind]))\n",
      "print chords    "
     ],
     "language": "python",
     "metadata": {},
     "outputs": [
      {
       "output_type": "stream",
       "stream": "stdout",
       "text": [
        "['E minor', 'A minor', 'F half-diminished', 'B dominant', 'E minor', 'E minor-seventh', 'C dominant', 'B dominant', 'A minor', 'B dominant', 'E minor', 'E dominant', 'E dominant', 'A minor', 'B dominant', 'A minor', 'B dominant', 'E minor', 'E minor-seventh', 'C dominant', 'B dominant', 'A minor', 'B dominant', 'E minor', 'E dominant', 'A minor', 'B dominant', 'A minor', 'B dominant', 'E minor', 'E minor-seventh', 'F dominant', 'B dominant', 'E minor', 'D dominant', 'G major', 'F half-diminished', 'B dominant', 'E minor', 'C dominant', 'B augmented-seventh', 'B dominant', 'A minor-seventh', 'D dominant', 'G major-seventh', 'C major-seventh', 'F half-diminished', 'B dominant', 'E minor-seventh', 'A minor-seventh', 'D dominant', 'G major-seventh', 'C major-seventh', 'F half-diminished', 'B dominant', 'E minor-seventh', 'F half-diminished', 'B dominant', 'E minor-seventh', 'A minor-seventh', 'D dominant', 'G major-seventh', 'F half-diminished', 'B dominant', 'E minor-seventh', 'A dominant', 'D minor-seventh', 'G dominant', 'A major', 'A minor', 'B dominant', 'E minor-seventh', 'E minor-seventh']\n"
       ]
      }
     ],
     "prompt_number": 14
    },
    {
     "cell_type": "markdown",
     "metadata": {},
     "source": [
      "Note to self: this way of parsing is not super robust. I might get false parsing data if one of the file doesn't follow the right structure. Then again, if this happens, my whole zip stuff would break. I'd notice."
     ]
    },
    {
     "cell_type": "heading",
     "level": 1,
     "metadata": {},
     "source": [
      "What about alterated chords?"
     ]
    },
    {
     "cell_type": "markdown",
     "metadata": {},
     "source": [
      "While comparing the chords from the file above with the website, I noticed that alterated chords were not detected. Upon checking, I've realized that the alteration is described in the following way:"
     ]
    },
    {
     "cell_type": "code",
     "collapsed": false,
     "input": [
      "f_sharp_chord = \"\"\"\n",
      "            <harmony print-frame=\"no\">\n",
      "                <root>\n",
      "                    <root-step>F</root-step>\n",
      "                    <root-alter>1</root-alter>\n",
      "                </root>\n",
      "                <kind text=\"m7b5\">half-diminished</kind>\n",
      "            </harmony>\n",
      "\"\"\""
     ],
     "language": "python",
     "metadata": {},
     "outputs": [],
     "prompt_number": 15
    },
    {
     "cell_type": "markdown",
     "metadata": {},
     "source": [
      "Therefore, to parse this correctly, we need to account for the root-alter tag. Let's see if we can integrate this into our parsing function."
     ]
    },
    {
     "cell_type": "code",
     "collapsed": false,
     "input": [
      "tree = ET.fromstringlist(f_sharp_chord)\n",
      "tree"
     ],
     "language": "python",
     "metadata": {},
     "outputs": [
      {
       "output_type": "pyout",
       "prompt_number": 33,
       "text": [
        "<Element 'harmony' at 0xa31c34c>"
       ]
      }
     ],
     "prompt_number": 33
    },
    {
     "cell_type": "code",
     "collapsed": false,
     "input": [
      "for elem in tree.findall('.//root'):\n",
      "    alter = elem.find('root-alter')\n",
      "    if alter != None:\n",
      "        print alter.text\n",
      "        "
     ],
     "language": "python",
     "metadata": {},
     "outputs": [
      {
       "output_type": "stream",
       "stream": "stdout",
       "text": [
        "1\n"
       ]
      }
     ],
     "prompt_number": 42
    },
    {
     "cell_type": "markdown",
     "metadata": {},
     "source": [
      "We can now update the *get_chords* function to take this into account."
     ]
    },
    {
     "cell_type": "code",
     "collapsed": false,
     "input": [
      "def get_chords(xml):\n",
      "    tree = ET.fromstringlist(xml)\n",
      "    chords = []\n",
      "    for elem in tree.findall('.//harmony'):\n",
      "        root = elem.find('root/root-step').text\n",
      "        alter_elem = elem.find('root/root-alter')\n",
      "        alter = (alter_elem != None and alter_elem.text)\n",
      "        kind = elem.find('kind').text\n",
      "        chords.append((root, alter, kind))\n",
      "    return chords"
     ],
     "language": "python",
     "metadata": {},
     "outputs": [],
     "prompt_number": 47
    },
    {
     "cell_type": "code",
     "collapsed": false,
     "input": [
      "print get_chords(xml)"
     ],
     "language": "python",
     "metadata": {},
     "outputs": [
      {
       "output_type": "stream",
       "stream": "stdout",
       "text": [
        "[('E', False, 'minor'), ('A', False, 'minor'), ('F', '1', 'half-diminished'), ('B', False, 'dominant'), ('E', False, 'minor'), ('E', False, 'minor-seventh'), ('C', False, 'dominant'), ('B', False, 'dominant'), ('A', False, 'minor'), ('B', False, 'dominant'), ('E', False, 'minor'), ('E', False, 'dominant'), ('E', False, 'dominant'), ('A', False, 'minor'), ('B', False, 'dominant'), ('A', False, 'minor'), ('B', False, 'dominant'), ('E', False, 'minor'), ('E', False, 'minor-seventh'), ('C', False, 'dominant'), ('B', False, 'dominant'), ('A', False, 'minor'), ('B', False, 'dominant'), ('E', False, 'minor'), ('E', False, 'dominant'), ('A', False, 'minor'), ('B', False, 'dominant'), ('A', False, 'minor'), ('B', False, 'dominant'), ('E', False, 'minor'), ('E', False, 'minor-seventh'), ('F', '1', 'dominant'), ('B', False, 'dominant'), ('E', False, 'minor'), ('D', False, 'dominant'), ('G', False, 'major'), ('F', '1', 'half-diminished'), ('B', False, 'dominant'), ('E', False, 'minor'), ('C', False, 'dominant'), ('B', False, 'augmented-seventh'), ('B', False, 'dominant'), ('A', False, 'minor-seventh'), ('D', False, 'dominant'), ('G', False, 'major-seventh'), ('C', False, 'major-seventh'), ('F', '1', 'half-diminished'), ('B', False, 'dominant'), ('E', False, 'minor-seventh'), ('A', False, 'minor-seventh'), ('D', False, 'dominant'), ('G', False, 'major-seventh'), ('C', False, 'major-seventh'), ('F', '1', 'half-diminished'), ('B', False, 'dominant'), ('E', False, 'minor-seventh'), ('F', '1', 'half-diminished'), ('B', False, 'dominant'), ('E', False, 'minor-seventh'), ('A', False, 'minor-seventh'), ('D', False, 'dominant'), ('G', False, 'major-seventh'), ('F', '1', 'half-diminished'), ('B', False, 'dominant'), ('E', False, 'minor-seventh'), ('A', False, 'dominant'), ('D', False, 'minor-seventh'), ('G', False, 'dominant'), ('A', False, 'major'), ('A', False, 'minor'), ('B', False, 'dominant'), ('E', False, 'minor-seventh'), ('E', False, 'minor-seventh')]\n"
       ]
      }
     ],
     "prompt_number": 49
    },
    {
     "cell_type": "markdown",
     "metadata": {},
     "source": [
      "Finally, we can define some utility function to translate our chords triplet into real chord names."
     ]
    },
    {
     "cell_type": "code",
     "collapsed": false,
     "input": [
      "def increment_note(note, half_tones):\n",
      "    notes = ['C', 'C#', 'D', 'D#', 'E', 'F', 'F#', 'G', 'G#', 'A', 'A#', 'B']\n",
      "    ind = notes.index(note)\n",
      "    return notes[(ind + half_tones) % 12]"
     ],
     "language": "python",
     "metadata": {},
     "outputs": [],
     "prompt_number": 51
    },
    {
     "cell_type": "code",
     "collapsed": false,
     "input": [
      "increment_note('C', 6)"
     ],
     "language": "python",
     "metadata": {},
     "outputs": [
      {
       "output_type": "pyout",
       "prompt_number": 55,
       "text": [
        "'F#'"
       ]
      }
     ],
     "prompt_number": 55
    },
    {
     "cell_type": "code",
     "collapsed": false,
     "input": [
      "def triplet_to_string(triplet):\n",
      "    (root, alter, kind) = triplet\n",
      "    if alter == False:\n",
      "        return \" \".join([root, kind])\n",
      "    else:\n",
      "        return \" \".join([increment_note(root, int(alter)), kind])"
     ],
     "language": "python",
     "metadata": {},
     "outputs": [],
     "prompt_number": 58
    },
    {
     "cell_type": "code",
     "collapsed": false,
     "input": [
      "print map(triplet_to_string, get_chords(xml))"
     ],
     "language": "python",
     "metadata": {},
     "outputs": [
      {
       "output_type": "stream",
       "stream": "stdout",
       "text": [
        "['E minor', 'A minor', 'F# half-diminished', 'B dominant', 'E minor', 'E minor-seventh', 'C dominant', 'B dominant', 'A minor', 'B dominant', 'E minor', 'E dominant', 'E dominant', 'A minor', 'B dominant', 'A minor', 'B dominant', 'E minor', 'E minor-seventh', 'C dominant', 'B dominant', 'A minor', 'B dominant', 'E minor', 'E dominant', 'A minor', 'B dominant', 'A minor', 'B dominant', 'E minor', 'E minor-seventh', 'F# dominant', 'B dominant', 'E minor', 'D dominant', 'G major', 'F# half-diminished', 'B dominant', 'E minor', 'C dominant', 'B augmented-seventh', 'B dominant', 'A minor-seventh', 'D dominant', 'G major-seventh', 'C major-seventh', 'F# half-diminished', 'B dominant', 'E minor-seventh', 'A minor-seventh', 'D dominant', 'G major-seventh', 'C major-seventh', 'F# half-diminished', 'B dominant', 'E minor-seventh', 'F# half-diminished', 'B dominant', 'E minor-seventh', 'A minor-seventh', 'D dominant', 'G major-seventh', 'F# half-diminished', 'B dominant', 'E minor-seventh', 'A dominant', 'D minor-seventh', 'G dominant', 'A major', 'A minor', 'B dominant', 'E minor-seventh', 'E minor-seventh']\n"
       ]
      }
     ],
     "prompt_number": 61
    },
    {
     "cell_type": "heading",
     "level": 1,
     "metadata": {},
     "source": [
      "Translating the chords to a C-major key"
     ]
    },
    {
     "cell_type": "markdown",
     "metadata": {},
     "source": [
      "Now that we know how to parse a MusicXML file, we can shift the chords to the key of C-major if we note the root key for the song. In our case, the song *Les feuilles mortes* has a F sharp in its key, therefore we're in G major or equivalently, E minor (in this case E minor, because there are some D sharps in the melody). So what we need to do is to compute the distance between C and G and shift all the chords."
     ]
    },
    {
     "cell_type": "code",
     "collapsed": false,
     "input": [
      "def distance_between_notes(first_note, second_note):\n",
      "    \"\"\" returns distance between the two notes, in half-tones \n",
      "    \"\"\"\n",
      "    notes = ['C', 'C#', 'D', 'D#', 'E', 'F', 'F#', 'G', 'G#', 'A', 'A#', 'B']\n",
      "    first_index = notes.index(first_note)\n",
      "    second_index = notes.index(second_note)\n",
      "    distance = second_index - first_index\n",
      "    if distance < 0:\n",
      "        return distance + 12\n",
      "    else:\n",
      "        return distance"
     ],
     "language": "python",
     "metadata": {},
     "outputs": [],
     "prompt_number": 64
    },
    {
     "cell_type": "code",
     "collapsed": false,
     "input": [
      "print distance_between_notes('C', 'D')\n",
      "print distance_between_notes('G', 'C')"
     ],
     "language": "python",
     "metadata": {},
     "outputs": [
      {
       "output_type": "stream",
       "stream": "stdout",
       "text": [
        "2\n",
        "5\n"
       ]
      }
     ],
     "prompt_number": 66
    },
    {
     "cell_type": "code",
     "collapsed": false,
     "input": [
      "increment_note('G', 5)"
     ],
     "language": "python",
     "metadata": {},
     "outputs": [
      {
       "output_type": "pyout",
       "prompt_number": 67,
       "text": [
        "'C'"
       ]
      }
     ],
     "prompt_number": 67
    },
    {
     "cell_type": "markdown",
     "metadata": {},
     "source": [
      "Here, the main loop is:\n",
      "\n",
      "- we extract the chord information from the XML\n",
      "- we shift the notes into the C key\n",
      "- we build the proper chord names (including the alterations)\n"
     ]
    },
    {
     "cell_type": "code",
     "collapsed": false,
     "input": [
      "chord_information = get_chords(xml)\n",
      "distance_to_C_major = distance_between_notes('G', 'C')\n",
      "new_chord_information = []\n",
      "for info in chord_information:\n",
      "    info = (increment_note(info[0], distance_to_C_major), info[1], info[2])\n",
      "    new_chord_information.append(info)\n",
      "chords = map(triplet_to_string, new_chord_information)\n",
      "print chords\n",
      "    "
     ],
     "language": "python",
     "metadata": {},
     "outputs": [
      {
       "output_type": "stream",
       "stream": "stdout",
       "text": [
        "['A minor', 'D minor', 'B half-diminished', 'E dominant', 'A minor', 'A minor-seventh', 'F dominant', 'E dominant', 'D minor', 'E dominant', 'A minor', 'A dominant', 'A dominant', 'D minor', 'E dominant', 'D minor', 'E dominant', 'A minor', 'A minor-seventh', 'F dominant', 'E dominant', 'D minor', 'E dominant', 'A minor', 'A dominant', 'D minor', 'E dominant', 'D minor', 'E dominant', 'A minor', 'A minor-seventh', 'B dominant', 'E dominant', 'A minor', 'G dominant', 'C major', 'B half-diminished', 'E dominant', 'A minor', 'F dominant', 'E augmented-seventh', 'E dominant', 'D minor-seventh', 'G dominant', 'C major-seventh', 'F major-seventh', 'B half-diminished', 'E dominant', 'A minor-seventh', 'D minor-seventh', 'G dominant', 'C major-seventh', 'F major-seventh', 'B half-diminished', 'E dominant', 'A minor-seventh', 'B half-diminished', 'E dominant', 'A minor-seventh', 'D minor-seventh', 'G dominant', 'C major-seventh', 'B half-diminished', 'E dominant', 'A minor-seventh', 'D dominant', 'G minor-seventh', 'C dominant', 'D major', 'D minor', 'E dominant', 'A minor-seventh', 'A minor-seventh']\n"
       ]
      }
     ],
     "prompt_number": 73
    },
    {
     "cell_type": "heading",
     "level": 1,
     "metadata": {},
     "source": [
      "Counting chord changes"
     ]
    },
    {
     "cell_type": "code",
     "collapsed": false,
     "input": [
      "chord_changes = {}\n",
      "for ind, val in enumerate(chords[:-1]):\n",
      "    transition = \"->\".join([val, chords[ind + 1]])\n",
      "    if transition in chord_changes:\n",
      "        chord_changes[transition] += 1\n",
      "    else:\n",
      "        chord_changes[transition] = 1\n",
      "chord_changes"
     ],
     "language": "python",
     "metadata": {},
     "outputs": [
      {
       "output_type": "pyout",
       "prompt_number": 95,
       "text": [
        "{'A dominant->A dominant': 1,\n",
        " 'A dominant->D minor': 2,\n",
        " 'A minor->A dominant': 2,\n",
        " 'A minor->A minor-seventh': 3,\n",
        " 'A minor->D minor': 1,\n",
        " 'A minor->F dominant': 1,\n",
        " 'A minor->G dominant': 1,\n",
        " 'A minor-seventh->A minor-seventh': 1,\n",
        " 'A minor-seventh->B dominant': 1,\n",
        " 'A minor-seventh->B half-diminished': 1,\n",
        " 'A minor-seventh->D dominant': 1,\n",
        " 'A minor-seventh->D minor-seventh': 2,\n",
        " 'A minor-seventh->F dominant': 2,\n",
        " 'B dominant->E dominant': 1,\n",
        " 'B half-diminished->E dominant': 6,\n",
        " 'C dominant->D major': 1,\n",
        " 'C major->B half-diminished': 1,\n",
        " 'C major-seventh->B half-diminished': 1,\n",
        " 'C major-seventh->F major-seventh': 2,\n",
        " 'D dominant->G minor-seventh': 1,\n",
        " 'D major->D minor': 1,\n",
        " 'D minor->B half-diminished': 1,\n",
        " 'D minor->E dominant': 7,\n",
        " 'D minor-seventh->G dominant': 3,\n",
        " 'E augmented-seventh->E dominant': 1,\n",
        " 'E dominant->A minor': 7,\n",
        " 'E dominant->A minor-seventh': 5,\n",
        " 'E dominant->D minor': 4,\n",
        " 'E dominant->D minor-seventh': 1,\n",
        " 'F dominant->E augmented-seventh': 1,\n",
        " 'F dominant->E dominant': 2,\n",
        " 'F major-seventh->B half-diminished': 2,\n",
        " 'G dominant->C major': 1,\n",
        " 'G dominant->C major-seventh': 3,\n",
        " 'G minor-seventh->C dominant': 1}"
       ]
      }
     ],
     "prompt_number": 95
    },
    {
     "cell_type": "code",
     "collapsed": false,
     "input": [
      "occurences = [chord_changes[key] for key in chord_changes]\n",
      "bar(arange(len(occurences)), occurences)\n",
      "xticks(0.5 + arange(len(occurences)))\n",
      "locs, labels = xticks()\n",
      "xticks(locs, chord_changes.keys(), rotation = 90);"
     ],
     "language": "python",
     "metadata": {},
     "outputs": [
      {
       "output_type": "display_data",
       "png": "[encoded data removed]"
      }
     ],
     "prompt_number": 96
    },
    {
     "cell_type": "heading",
     "level": 1,
     "metadata": {},
     "source": [
      "Deleting the files on the disk"
     ]
    },
    {
     "cell_type": "code",
     "collapsed": false,
     "input": [
      "%%bash\n",
      "cd files\n",
      "rm -r tmp/\n",
      "ls"
     ],
     "language": "python",
     "metadata": {},
     "outputs": [
      {
       "output_type": "stream",
       "stream": "stdout",
       "text": [
        "big.txt\n",
        "Demokratie.jpg\n",
        "High_tone.wav\n",
        "Joseph Kosma, English: Johnny Mercer, French: Jacques Prevert - Autumn Leaves.mxl\n",
        "Low_tone.wav\n",
        "WiiBoard_data.npy\n"
       ]
      },
      {
       "output_type": "stream",
       "stream": "stderr",
       "text": [
        "rm: cannot remove \u2018tmp/\u2019: No such file or directory\n"
       ]
      }
     ],
     "prompt_number": 101
    }
   ],
   "metadata": {}
  }
 ]
}