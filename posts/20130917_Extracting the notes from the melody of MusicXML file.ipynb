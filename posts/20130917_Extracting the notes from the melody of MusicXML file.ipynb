{
 "metadata": {
  "name": ""
 },
 "nbformat": 3,
 "nbformat_minor": 0,
 "worksheets": [
  {
   "cells": [
    {
     "cell_type": "markdown",
     "metadata": {},
     "source": [
      "In one of the last posts, we extracted the chords from a MusicXML formatted file. In this post, we're going to do two things:\n",
      "\n",
      "- extract notes from the melody\n",
      "- check on which chord they happen\n",
      "\n",
      "First of all, let's concentrate on the first item\n",
      "\n",
      "# Extracting the melodic line of a MusicXML file"
     ]
    },
    {
     "cell_type": "markdown",
     "metadata": {},
     "source": [
      "The first question to ask is: how is a note coded? In our case, we're going to work with Autumn Leaves as our sample file. After analyzing the tune, I've noticed that the whole lead sheet is a sequence of measures. Let's look at the first measure to see how the first note in the melody, a B, is embedded with its chord."
     ]
    },
    {
     "cell_type": "raw",
     "metadata": {},
     "source": [
      "<measure width=\"270.27\" number=\"1\">\n",
      "            <print>\n",
      "                <system-layout>\n",
      "                    <system-margins>\n",
      "                        <left-margin>69.92</left-margin>\n",
      "                        <right-margin>0.00</right-margin>\n",
      "                    </system-margins>\n",
      "                    <top-system-distance>201.04</top-system-distance>\n",
      "                </system-layout>\n",
      "            </print>\n",
      "            <attributes>\n",
      "                <divisions>4</divisions>\n",
      "                <key>\n",
      "                    <fifths>1</fifths>\n",
      "                    <mode>major</mode>\n",
      "                </key>\n",
      "                <time>\n",
      "                    <beats>6</beats>\n",
      "                    <beat-type>8</beat-type>\n",
      "                </time>\n",
      "                <clef>\n",
      "                    <sign>G</sign>\n",
      "                    <line>2</line>\n",
      "                </clef>\n",
      "            </attributes>\n",
      "            <harmony print-frame=\"no\">\n",
      "                <root>\n",
      "                    <root-step>E</root-step>\n",
      "                </root>\n",
      "                <kind text=\"m\">minor</kind>\n",
      "            </harmony>\n",
      "            <note>\n",
      "                <rest/>\n",
      "                <duration>2</duration>\n",
      "                <voice>1</voice>\n",
      "                <type>eighth</type>\n",
      "            </note>\n",
      "            <note default-y=\"-20.00\" default-x=\"118.77\">\n",
      "                <pitch>\n",
      "                    <step>B</step>\n",
      "                    <octave>4</octave>\n",
      "                </pitch>\n",
      "                <duration>2</duration>\n",
      "                <voice>1</voice>\n",
      "                <type>eighth</type>\n",
      "                <stem>down</stem>\n",
      "                <beam number=\"1\">begin</beam>\n",
      "            </note>\n",
      "            <note default-y=\"-15.00\" default-x=\"149.21\">\n",
      "                <pitch>\n",
      "                    <step>C</step>\n",
      "                    <alter>1</alter>\n",
      "                    <octave>5</octave>\n",
      "                </pitch>\n",
      "                <duration>2</duration>\n",
      "                <voice>1</voice>\n",
      "                <type>eighth</type>\n",
      "                <accidental>sharp</accidental>\n",
      "                <stem>down</stem>\n",
      "                <beam number=\"1\">end</beam>\n",
      "            </note>\n",
      "            <note default-y=\"-10.00\" default-x=\"179.65\">\n",
      "                <pitch>\n",
      "                    <step>D</step>\n",
      "                    <alter>1</alter>\n",
      "                    <octave>5</octave>\n",
      "                </pitch>\n",
      "                <duration>2</duration>\n",
      "                <voice>1</voice>\n",
      "                <type>eighth</type>\n",
      "                <accidental>sharp</accidental>\n",
      "                <stem>down</stem>\n",
      "                <beam number=\"1\">begin</beam>\n",
      "            </note>\n",
      "            <note default-y=\"0.00\" default-x=\"209.32\">\n",
      "                <pitch>\n",
      "                    <step>F</step>\n",
      "                    <alter>1</alter>\n",
      "                    <octave>5</octave>\n",
      "                </pitch>\n",
      "                <duration>2</duration>\n",
      "                <voice>1</voice>\n",
      "                <type>eighth</type>\n",
      "                <stem>down</stem>\n",
      "                <beam number=\"1\">continue</beam>\n",
      "            </note>\n",
      "            <note default-y=\"-5.00\" default-x=\"239.00\">\n",
      "                <pitch>\n",
      "                    <step>E</step>\n",
      "                    <octave>5</octave>\n",
      "                </pitch>\n",
      "                <duration>2</duration>\n",
      "                <voice>1</voice>\n",
      "                <type>eighth</type>\n",
      "                <stem>down</stem>\n",
      "                <beam number=\"1\">end</beam>\n",
      "            </note>\n",
      "        </measure>"
     ]
    },
    {
     "cell_type": "markdown",
     "metadata": {},
     "source": [
      "So what we need to do is to parse each measure by finding all blocks containing an harmonic part, the chords that's followed by notes."
     ]
    },
    {
     "cell_type": "code",
     "collapsed": false,
     "input": [
      "import xml.etree.cElementTree as ET"
     ],
     "language": "python",
     "metadata": {},
     "outputs": [],
     "prompt_number": 1
    },
    {
     "cell_type": "code",
     "collapsed": false,
     "input": [
      "xml = file(\"files/autumn_leaves.xml\", 'r').readlines()\n",
      "tree = ET.fromstringlist(xml)"
     ],
     "language": "python",
     "metadata": {},
     "outputs": [],
     "prompt_number": 4
    },
    {
     "cell_type": "code",
     "collapsed": false,
     "input": [
      "first_measure = tree.find(\".//measure\")\n",
      "first_measure"
     ],
     "language": "python",
     "metadata": {},
     "outputs": [
      {
       "metadata": {},
       "output_type": "pyout",
       "prompt_number": 10,
       "text": [
        "<Element 'measure' at 0x462b350>"
       ]
      }
     ],
     "prompt_number": 10
    },
    {
     "cell_type": "code",
     "collapsed": false,
     "input": [
      "chords = first_measure.findall(\"harmony/root/root-step\")\n",
      "chords"
     ],
     "language": "python",
     "metadata": {},
     "outputs": [
      {
       "metadata": {},
       "output_type": "pyout",
       "prompt_number": 16,
       "text": [
        "[<Element 'root-step' at 0x462b910>]"
       ]
      }
     ],
     "prompt_number": 16
    },
    {
     "cell_type": "code",
     "collapsed": false,
     "input": [
      "chords[0].text"
     ],
     "language": "python",
     "metadata": {},
     "outputs": [
      {
       "metadata": {},
       "output_type": "pyout",
       "prompt_number": 17,
       "text": [
        "'E'"
       ]
      }
     ],
     "prompt_number": 17
    },
    {
     "cell_type": "code",
     "collapsed": false,
     "input": [
      "for note in first_measure.findall(\"note/pitch/step\"):\n",
      "    print note.text"
     ],
     "language": "python",
     "metadata": {},
     "outputs": [
      {
       "output_type": "stream",
       "stream": "stdout",
       "text": [
        "B\n",
        "C\n",
        "D\n",
        "F\n",
        "E\n"
       ]
      }
     ],
     "prompt_number": 19
    },
    {
     "cell_type": "markdown",
     "metadata": {},
     "source": [
      "This allows us to easily get the notes. However, there are two sorts of alterations that need to be taken into account:\n",
      "\n",
      "- the key alterations (here we're in the key of E minor / G major, therefore F is sharp)\n",
      "- the accidental alterations\n",
      "\n",
      "First, let's see if we can take into account the accidental alterations."
     ]
    },
    {
     "cell_type": "code",
     "collapsed": false,
     "input": [
      "for note in first_measure.findall(\"note/pitch\"):\n",
      "    if note.find(\"alter\") != None:\n",
      "        alter = note.find(\"alter\").text\n",
      "        print note.find(\"step\").text, alter\n",
      "    else:\n",
      "        print note.find(\"step\").text\n",
      "    "
     ],
     "language": "python",
     "metadata": {},
     "outputs": [
      {
       "output_type": "stream",
       "stream": "stdout",
       "text": [
        "B\n",
        "C 1\n",
        "D 1\n",
        "F 1\n",
        "E\n"
       ]
      }
     ],
     "prompt_number": 21
    },
    {
     "cell_type": "markdown",
     "metadata": {},
     "source": [
      "We can easily take into account this sort of alteration by using a function already coded in a previous notebook that shifts a note by a required number of semitones."
     ]
    },
    {
     "cell_type": "code",
     "collapsed": false,
     "input": [
      "def increment_note(note, half_tones):\n",
      "    notes = ['C', 'C#', 'D', 'D#', 'E', 'F', 'F#', 'G', 'G#', 'A', 'A#', 'B']\n",
      "    ind = notes.index(note)\n",
      "    return notes[(ind + half_tones) % 12]"
     ],
     "language": "python",
     "metadata": {},
     "outputs": [],
     "prompt_number": 22
    },
    {
     "cell_type": "code",
     "collapsed": false,
     "input": [
      "for note in first_measure.findall(\"note/pitch\"):\n",
      "    if note.find(\"alter\") != None:\n",
      "        alter = note.find(\"alter\").text\n",
      "        print increment_note(note.find(\"step\").text, int(alter))\n",
      "    else:\n",
      "        print note.find(\"step\").text\n",
      "    "
     ],
     "language": "python",
     "metadata": {},
     "outputs": [
      {
       "output_type": "stream",
       "stream": "stdout",
       "text": [
        "B\n",
        "C#\n",
        "D#\n",
        "F#\n",
        "E\n"
       ]
      }
     ],
     "prompt_number": 23
    },
    {
     "cell_type": "markdown",
     "metadata": {},
     "source": [
      "After seing the output of this function, it turns out that the key alteration is in fact already coded within the note. That's a good point for us because then we don't need to take into account a behaviour of the style: \"if this note is in the key accidentals then make it sharp or flat\". We can just use the notes right away."
     ]
    },
    {
     "cell_type": "heading",
     "level": 1,
     "metadata": {},
     "source": [
      "Parsing harmony and melody at the same time"
     ]
    },
    {
     "cell_type": "markdown",
     "metadata": {},
     "source": [
      "From what we've seen before, it seems logical to parse the song on a per-measure way. Using what we learnt before, we can loop over each child of each measure. If the child is a harmony element, we can set the active chord to be the one extracted from there. If it is a note element, we can increment the note count over a given chord."
     ]
    },
    {
     "cell_type": "code",
     "collapsed": false,
     "input": [
      "def get_chord_from_harmony_tag(harmony_tag):\n",
      "    root = harmony_tag.find('root/root-step').text\n",
      "    alter_elem = harmony_tag.find('root/root-alter')\n",
      "    if alter_elem != None:\n",
      "        root = increment_note(root, int(alter_elem.text))\n",
      "    kind_attrib = harmony_tag.find('kind').attrib['text']\n",
      "    return \" \".join([root, kind_attrib])\n",
      "    "
     ],
     "language": "python",
     "metadata": {},
     "outputs": [],
     "prompt_number": 26
    },
    {
     "cell_type": "code",
     "collapsed": false,
     "input": [
      "get_chord_from_harmony_tag(first_measure.find(\"harmony\"))"
     ],
     "language": "python",
     "metadata": {},
     "outputs": [
      {
       "metadata": {},
       "output_type": "pyout",
       "prompt_number": 27,
       "text": [
        "'E m'"
       ]
      }
     ],
     "prompt_number": 27
    },
    {
     "cell_type": "code",
     "collapsed": false,
     "input": [
      "def get_note_from_note_tag(note_tag):\n",
      "    pitch = note_tag.find(\"pitch\")\n",
      "    if pitch != None: #in case the note is a rest\n",
      "        note = pitch.find(\"step\").text\n",
      "        if pitch.find(\"alter\") != None:\n",
      "            note = increment_note(note, int(pitch.find(\"alter\").text))\n",
      "        return note\n",
      "    else:\n",
      "        return None"
     ],
     "language": "python",
     "metadata": {},
     "outputs": [],
     "prompt_number": 45
    },
    {
     "cell_type": "code",
     "collapsed": false,
     "input": [
      "note_tag = first_measure.findall(\"note\")[1]\n",
      "get_note_from_note_tag(note_tag)"
     ],
     "language": "python",
     "metadata": {},
     "outputs": [
      {
       "metadata": {},
       "output_type": "pyout",
       "prompt_number": 46,
       "text": [
        "'B'"
       ]
      }
     ],
     "prompt_number": 46
    },
    {
     "cell_type": "markdown",
     "metadata": {},
     "source": [
      "we now have the needed helper functions and can turn to the main loop."
     ]
    },
    {
     "cell_type": "code",
     "collapsed": false,
     "input": [
      "def write_note_to_dict(note, current_chord, note_chord_dict):\n",
      "    if not current_chord in note_chord_dict:\n",
      "        note_chord_dict[current_chord] = [0] * 12\n",
      "    ind = ['C', 'C#', 'D', 'D#', 'E', 'F', 'F#', 'G', 'G#', 'A', 'A#', 'B'].index(note)\n",
      "    note_chord_dict[current_chord][ind] += 1"
     ],
     "language": "python",
     "metadata": {},
     "outputs": [],
     "prompt_number": 52
    },
    {
     "cell_type": "code",
     "collapsed": false,
     "input": [
      "current_chord = None\n",
      "note_chord_dict = {}\n",
      "for measure in tree.findall(\".//measure\"):\n",
      "    for child in measure:\n",
      "        if child.tag == 'harmony':\n",
      "            current_chord = get_chord_from_harmony_tag(child)\n",
      "        if child.tag == 'note':\n",
      "            note = get_note_from_note_tag(child)\n",
      "            if current_chord != None and note != None:\n",
      "                write_note_to_dict(note, current_chord, note_chord_dict)"
     ],
     "language": "python",
     "metadata": {},
     "outputs": [],
     "prompt_number": 54
    },
    {
     "cell_type": "code",
     "collapsed": false,
     "input": [
      "note_chord_dict"
     ],
     "language": "python",
     "metadata": {},
     "outputs": [
      {
       "metadata": {},
       "output_type": "pyout",
       "prompt_number": 55,
       "text": [
        "{'A ': [0, 0, 0, 0, 0, 0, 0, 0, 0, 2, 0, 0],\n",
        " 'A 7': [0, 0, 0, 0, 0, 0, 0, 0, 0, 0, 0, 1],\n",
        " 'A m': [1, 0, 1, 0, 3, 0, 8, 9, 0, 7, 0, 0],\n",
        " 'A m7': [2, 0, 0, 0, 0, 0, 0, 0, 0, 1, 0, 0],\n",
        " 'B 7': [1, 1, 0, 1, 2, 0, 20, 8, 0, 8, 0, 4],\n",
        " 'B 7#5': [0, 0, 0, 0, 0, 0, 0, 0, 0, 0, 0, 1],\n",
        " 'C 7': [0, 0, 0, 0, 5, 0, 1, 4, 0, 0, 1, 0],\n",
        " 'C Maj7': [2, 0, 2, 0, 2, 0, 0, 0, 0, 0, 0, 2],\n",
        " 'D 7': [4, 0, 5, 0, 3, 0, 2, 0, 0, 1, 0, 0],\n",
        " 'E 7': [4, 0, 4, 0, 0, 0, 0, 0, 0, 0, 0, 4],\n",
        " 'E 7b9': [2, 0, 2, 0, 0, 0, 0, 0, 0, 0, 0, 2],\n",
        " 'E m': [0, 1, 0, 1, 5, 0, 5, 4, 0, 0, 0, 6],\n",
        " 'E m7': [0, 0, 0, 1, 8, 0, 6, 10, 0, 0, 0, 2],\n",
        " 'F# 7': [0, 0, 0, 0, 1, 0, 0, 0, 0, 0, 0, 0],\n",
        " 'F# m7b5': [4, 0, 1, 0, 2, 0, 3, 1, 0, 5, 0, 1],\n",
        " 'G ': [0, 0, 0, 0, 0, 0, 0, 0, 0, 0, 0, 3],\n",
        " 'G 7': [0, 0, 0, 0, 1, 0, 0, 0, 0, 0, 0, 0],\n",
        " 'G Maj7': [0, 0, 0, 0, 0, 0, 0, 0, 0, 0, 1, 6]}"
       ]
      }
     ],
     "prompt_number": 55
    },
    {
     "cell_type": "code",
     "collapsed": false,
     "input": [
      "figure(figsize=(10, 10))\n",
      "note_arr = array([note_chord_dict[key] for key in note_chord_dict])\n",
      "matshow(note_arr, fignum=False, cmap=cm.gray)\n",
      "xticks(arange(0, 12), ['C', 'C#', 'D', 'D#', 'E', 'F', 'F#', 'G', 'G#', 'A', 'A#', 'B']);\n",
      "yticks(arange(0, len(note_chord_dict.keys())), note_chord_dict.keys());\n",
      "colorbar(shrink=0.75)"
     ],
     "language": "python",
     "metadata": {},
     "outputs": [
      {
       "metadata": {},
       "output_type": "pyout",
       "prompt_number": 79,
       "text": [
        "<matplotlib.colorbar.Colorbar instance at 0x07AB9AF8>"
       ]
      },
      {
       "metadata": {},
       "output_type": "display_data",
       "png": "[encoded data removed]",
       "text": [
        "<matplotlib.figure.Figure at 0x7833d90>"
       ]
      }
     ],
     "prompt_number": 79
    },
    {
     "cell_type": "code",
     "collapsed": false,
     "input": [],
     "language": "python",
     "metadata": {},
     "outputs": []
    }
   ],
   "metadata": {}
  }
 ]
}